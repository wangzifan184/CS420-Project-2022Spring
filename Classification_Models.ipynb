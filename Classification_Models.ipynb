{
  "nbformat": 4,
  "nbformat_minor": 0,
  "metadata": {
    "colab": {
      "name": "Classification_Models.ipynb",
      "provenance": [],
      "collapsed_sections": []
    },
    "kernelspec": {
      "name": "python3",
      "display_name": "Python 3"
    },
    "language_info": {
      "name": "python"
    },
    "accelerator": "GPU",
    "gpuClass": "standard"
  },
  "cells": [
    {
      "cell_type": "markdown",
      "source": [
        "Classification Models"
      ],
      "metadata": {
        "id": "IohaW5_CNiZO"
      }
    },
    {
      "cell_type": "code",
      "execution_count": 1,
      "metadata": {
        "id": "M3FG3QT47rWE"
      },
      "outputs": [],
      "source": [
        "import numpy as np # linear algebra\n",
        "import pandas as pd # data processing\n",
        "import matplotlib.pyplot as plt # Plotting library\n",
        "% matplotlib inline\n",
        "import pickle\n",
        "from sklearn.neighbors import KNeighborsClassifier\n",
        "from sklearn.ensemble import RandomForestClassifier\n",
        "from sklearn.svm import SVC, LinearSVC\n",
        "from sklearn.neural_network import MLPClassifier\n",
        "from sklearn.metrics import accuracy_score, confusion_matrix\n",
        "from sklearn.model_selection import GridSearchCV"
      ]
    },
    {
      "cell_type": "code",
      "source": [
        "# Loading X_train\n",
        "with open('xtrain_doodle.pickle','rb') as f:\n",
        "    X_train = pickle.load(f)\n",
        "\n",
        "# Loading X_test\n",
        "with open('xtest_doodle.pickle','rb') as f:\n",
        "    X_test = pickle.load(f)\n",
        "    \n",
        "# Loading y_train\n",
        "with open('ytrain_doodle.pickle','rb') as f:\n",
        "    y_train = pickle.load(f)\n",
        "\n",
        "# Loading y_test\n",
        "with open('ytest_doodle.pickle','rb') as f:\n",
        "    y_test = pickle.load(f)"
      ],
      "metadata": {
        "id": "FL2KYFeX8h3v"
      },
      "execution_count": 2,
      "outputs": []
    },
    {
      "cell_type": "markdown",
      "source": [
        "K-Nearest Neighbors"
      ],
      "metadata": {
        "id": "04L36qIoH5l-"
      }
    },
    {
      "cell_type": "code",
      "source": [
        "# Base model\n",
        "knn = KNeighborsClassifier(n_jobs=-1)\n",
        "knn.fit(X_train, y_train)\n",
        "print(knn)\n",
        "y_pred_knn = knn.predict(X_test)\n",
        "acc_knn = accuracy_score(y_test, y_pred_knn)\n",
        "print ('KNN accuracy: ',acc_knn)"
      ],
      "metadata": {
        "colab": {
          "base_uri": "https://localhost:8080/"
        },
        "id": "PD7H0-bD9X9C",
        "outputId": "d1061130-9531-42f5-caa5-90b8d412841e"
      },
      "execution_count": null,
      "outputs": [
        {
          "output_type": "stream",
          "name": "stdout",
          "text": [
            "KNeighborsClassifier(n_jobs=-1)\n",
            "KNN accuracy:  0.5487777777777778\n"
          ]
        }
      ]
    },
    {
      "cell_type": "code",
      "source": [
        "# Tuning number of neighbors\n",
        "parameters = {'n_neighbors': np.arange(1,6,1)}\n",
        "\n",
        "knn = KNeighborsClassifier(n_jobs=-1)\n",
        "knn = GridSearchCV(knn, parameters, n_jobs=-1)\n",
        "knn.fit(X_train, y_train)\n",
        "\n",
        "results_knn = pd.DataFrame(knn.cv_results_)\n",
        "results_knn.sort_values('mean_test_score', ascending = False)"
      ],
      "metadata": {
        "colab": {
          "base_uri": "https://localhost:8080/",
          "height": 357
        },
        "id": "sf6pPa8H9alg",
        "outputId": "2902d503-f9f0-4511-eabc-8d3ffad40e11"
      },
      "execution_count": null,
      "outputs": [
        {
          "output_type": "execute_result",
          "data": {
            "text/plain": [
              "   mean_fit_time  std_fit_time  mean_score_time  std_score_time  \\\n",
              "4       0.072391      0.011669        11.649205        0.712745   \n",
              "3       0.079365      0.020574        11.676934        1.065345   \n",
              "2       0.070804      0.009255        11.239153        0.950195   \n",
              "0       0.099465      0.054143        11.047430        0.625336   \n",
              "1       0.076483      0.026599        11.309837        0.840262   \n",
              "\n",
              "  param_n_neighbors              params  split0_test_score  split1_test_score  \\\n",
              "4                 5  {'n_neighbors': 5}           0.552143           0.539048   \n",
              "3                 4  {'n_neighbors': 4}           0.548571           0.520714   \n",
              "2                 3  {'n_neighbors': 3}           0.531667           0.507857   \n",
              "0                 1  {'n_neighbors': 1}           0.499048           0.483571   \n",
              "1                 2  {'n_neighbors': 2}           0.490952           0.470238   \n",
              "\n",
              "   split2_test_score  split3_test_score  split4_test_score  mean_test_score  \\\n",
              "4           0.546667           0.545476           0.539286         0.544524   \n",
              "3           0.533333           0.532857           0.525476         0.532190   \n",
              "2           0.517619           0.520714           0.518571         0.519286   \n",
              "0           0.501429           0.494286           0.485476         0.492762   \n",
              "1           0.488571           0.480476           0.467381         0.479524   \n",
              "\n",
              "   std_test_score  rank_test_score  \n",
              "4        0.004919                1  \n",
              "3        0.009454                2  \n",
              "2        0.007606                3  \n",
              "0        0.007134                4  \n",
              "1        0.009456                5  "
            ],
            "text/html": [
              "\n",
              "  <div id=\"df-d68d418d-563f-443a-8a80-0d80cf1ec2bc\">\n",
              "    <div class=\"colab-df-container\">\n",
              "      <div>\n",
              "<style scoped>\n",
              "    .dataframe tbody tr th:only-of-type {\n",
              "        vertical-align: middle;\n",
              "    }\n",
              "\n",
              "    .dataframe tbody tr th {\n",
              "        vertical-align: top;\n",
              "    }\n",
              "\n",
              "    .dataframe thead th {\n",
              "        text-align: right;\n",
              "    }\n",
              "</style>\n",
              "<table border=\"1\" class=\"dataframe\">\n",
              "  <thead>\n",
              "    <tr style=\"text-align: right;\">\n",
              "      <th></th>\n",
              "      <th>mean_fit_time</th>\n",
              "      <th>std_fit_time</th>\n",
              "      <th>mean_score_time</th>\n",
              "      <th>std_score_time</th>\n",
              "      <th>param_n_neighbors</th>\n",
              "      <th>params</th>\n",
              "      <th>split0_test_score</th>\n",
              "      <th>split1_test_score</th>\n",
              "      <th>split2_test_score</th>\n",
              "      <th>split3_test_score</th>\n",
              "      <th>split4_test_score</th>\n",
              "      <th>mean_test_score</th>\n",
              "      <th>std_test_score</th>\n",
              "      <th>rank_test_score</th>\n",
              "    </tr>\n",
              "  </thead>\n",
              "  <tbody>\n",
              "    <tr>\n",
              "      <th>4</th>\n",
              "      <td>0.072391</td>\n",
              "      <td>0.011669</td>\n",
              "      <td>11.649205</td>\n",
              "      <td>0.712745</td>\n",
              "      <td>5</td>\n",
              "      <td>{'n_neighbors': 5}</td>\n",
              "      <td>0.552143</td>\n",
              "      <td>0.539048</td>\n",
              "      <td>0.546667</td>\n",
              "      <td>0.545476</td>\n",
              "      <td>0.539286</td>\n",
              "      <td>0.544524</td>\n",
              "      <td>0.004919</td>\n",
              "      <td>1</td>\n",
              "    </tr>\n",
              "    <tr>\n",
              "      <th>3</th>\n",
              "      <td>0.079365</td>\n",
              "      <td>0.020574</td>\n",
              "      <td>11.676934</td>\n",
              "      <td>1.065345</td>\n",
              "      <td>4</td>\n",
              "      <td>{'n_neighbors': 4}</td>\n",
              "      <td>0.548571</td>\n",
              "      <td>0.520714</td>\n",
              "      <td>0.533333</td>\n",
              "      <td>0.532857</td>\n",
              "      <td>0.525476</td>\n",
              "      <td>0.532190</td>\n",
              "      <td>0.009454</td>\n",
              "      <td>2</td>\n",
              "    </tr>\n",
              "    <tr>\n",
              "      <th>2</th>\n",
              "      <td>0.070804</td>\n",
              "      <td>0.009255</td>\n",
              "      <td>11.239153</td>\n",
              "      <td>0.950195</td>\n",
              "      <td>3</td>\n",
              "      <td>{'n_neighbors': 3}</td>\n",
              "      <td>0.531667</td>\n",
              "      <td>0.507857</td>\n",
              "      <td>0.517619</td>\n",
              "      <td>0.520714</td>\n",
              "      <td>0.518571</td>\n",
              "      <td>0.519286</td>\n",
              "      <td>0.007606</td>\n",
              "      <td>3</td>\n",
              "    </tr>\n",
              "    <tr>\n",
              "      <th>0</th>\n",
              "      <td>0.099465</td>\n",
              "      <td>0.054143</td>\n",
              "      <td>11.047430</td>\n",
              "      <td>0.625336</td>\n",
              "      <td>1</td>\n",
              "      <td>{'n_neighbors': 1}</td>\n",
              "      <td>0.499048</td>\n",
              "      <td>0.483571</td>\n",
              "      <td>0.501429</td>\n",
              "      <td>0.494286</td>\n",
              "      <td>0.485476</td>\n",
              "      <td>0.492762</td>\n",
              "      <td>0.007134</td>\n",
              "      <td>4</td>\n",
              "    </tr>\n",
              "    <tr>\n",
              "      <th>1</th>\n",
              "      <td>0.076483</td>\n",
              "      <td>0.026599</td>\n",
              "      <td>11.309837</td>\n",
              "      <td>0.840262</td>\n",
              "      <td>2</td>\n",
              "      <td>{'n_neighbors': 2}</td>\n",
              "      <td>0.490952</td>\n",
              "      <td>0.470238</td>\n",
              "      <td>0.488571</td>\n",
              "      <td>0.480476</td>\n",
              "      <td>0.467381</td>\n",
              "      <td>0.479524</td>\n",
              "      <td>0.009456</td>\n",
              "      <td>5</td>\n",
              "    </tr>\n",
              "  </tbody>\n",
              "</table>\n",
              "</div>\n",
              "      <button class=\"colab-df-convert\" onclick=\"convertToInteractive('df-d68d418d-563f-443a-8a80-0d80cf1ec2bc')\"\n",
              "              title=\"Convert this dataframe to an interactive table.\"\n",
              "              style=\"display:none;\">\n",
              "        \n",
              "  <svg xmlns=\"http://www.w3.org/2000/svg\" height=\"24px\"viewBox=\"0 0 24 24\"\n",
              "       width=\"24px\">\n",
              "    <path d=\"M0 0h24v24H0V0z\" fill=\"none\"/>\n",
              "    <path d=\"M18.56 5.44l.94 2.06.94-2.06 2.06-.94-2.06-.94-.94-2.06-.94 2.06-2.06.94zm-11 1L8.5 8.5l.94-2.06 2.06-.94-2.06-.94L8.5 2.5l-.94 2.06-2.06.94zm10 10l.94 2.06.94-2.06 2.06-.94-2.06-.94-.94-2.06-.94 2.06-2.06.94z\"/><path d=\"M17.41 7.96l-1.37-1.37c-.4-.4-.92-.59-1.43-.59-.52 0-1.04.2-1.43.59L10.3 9.45l-7.72 7.72c-.78.78-.78 2.05 0 2.83L4 21.41c.39.39.9.59 1.41.59.51 0 1.02-.2 1.41-.59l7.78-7.78 2.81-2.81c.8-.78.8-2.07 0-2.86zM5.41 20L4 18.59l7.72-7.72 1.47 1.35L5.41 20z\"/>\n",
              "  </svg>\n",
              "      </button>\n",
              "      \n",
              "  <style>\n",
              "    .colab-df-container {\n",
              "      display:flex;\n",
              "      flex-wrap:wrap;\n",
              "      gap: 12px;\n",
              "    }\n",
              "\n",
              "    .colab-df-convert {\n",
              "      background-color: #E8F0FE;\n",
              "      border: none;\n",
              "      border-radius: 50%;\n",
              "      cursor: pointer;\n",
              "      display: none;\n",
              "      fill: #1967D2;\n",
              "      height: 32px;\n",
              "      padding: 0 0 0 0;\n",
              "      width: 32px;\n",
              "    }\n",
              "\n",
              "    .colab-df-convert:hover {\n",
              "      background-color: #E2EBFA;\n",
              "      box-shadow: 0px 1px 2px rgba(60, 64, 67, 0.3), 0px 1px 3px 1px rgba(60, 64, 67, 0.15);\n",
              "      fill: #174EA6;\n",
              "    }\n",
              "\n",
              "    [theme=dark] .colab-df-convert {\n",
              "      background-color: #3B4455;\n",
              "      fill: #D2E3FC;\n",
              "    }\n",
              "\n",
              "    [theme=dark] .colab-df-convert:hover {\n",
              "      background-color: #434B5C;\n",
              "      box-shadow: 0px 1px 3px 1px rgba(0, 0, 0, 0.15);\n",
              "      filter: drop-shadow(0px 1px 2px rgba(0, 0, 0, 0.3));\n",
              "      fill: #FFFFFF;\n",
              "    }\n",
              "  </style>\n",
              "\n",
              "      <script>\n",
              "        const buttonEl =\n",
              "          document.querySelector('#df-d68d418d-563f-443a-8a80-0d80cf1ec2bc button.colab-df-convert');\n",
              "        buttonEl.style.display =\n",
              "          google.colab.kernel.accessAllowed ? 'block' : 'none';\n",
              "\n",
              "        async function convertToInteractive(key) {\n",
              "          const element = document.querySelector('#df-d68d418d-563f-443a-8a80-0d80cf1ec2bc');\n",
              "          const dataTable =\n",
              "            await google.colab.kernel.invokeFunction('convertToInteractive',\n",
              "                                                     [key], {});\n",
              "          if (!dataTable) return;\n",
              "\n",
              "          const docLinkHtml = 'Like what you see? Visit the ' +\n",
              "            '<a target=\"_blank\" href=https://colab.research.google.com/notebooks/data_table.ipynb>data table notebook</a>'\n",
              "            + ' to learn more about interactive tables.';\n",
              "          element.innerHTML = '';\n",
              "          dataTable['output_type'] = 'display_data';\n",
              "          await google.colab.output.renderOutput(dataTable, element);\n",
              "          const docLink = document.createElement('div');\n",
              "          docLink.innerHTML = docLinkHtml;\n",
              "          element.appendChild(docLink);\n",
              "        }\n",
              "      </script>\n",
              "    </div>\n",
              "  </div>\n",
              "  "
            ]
          },
          "metadata": {},
          "execution_count": 11
        }
      ]
    },
    {
      "cell_type": "code",
      "source": [
        "# Plot results of grid search\n",
        "results_knn.plot('param_n_neighbors','mean_test_score')"
      ],
      "metadata": {
        "colab": {
          "base_uri": "https://localhost:8080/",
          "height": 298
        },
        "id": "4yE3oUgy9euV",
        "outputId": "74054f21-6539-4522-cd80-26b1161e66e5"
      },
      "execution_count": null,
      "outputs": [
        {
          "output_type": "execute_result",
          "data": {
            "text/plain": [
              "<matplotlib.axes._subplots.AxesSubplot at 0x7fd644ab7c90>"
            ]
          },
          "metadata": {},
          "execution_count": 12
        },
        {
          "output_type": "display_data",
          "data": {
            "text/plain": [
              "<Figure size 432x288 with 1 Axes>"
            ],
            "image/png": "[encoded data removed]"
          },
          "metadata": {
            "needs_background": "light"
          }
        }
      ]
    },
    {
      "cell_type": "code",
      "source": [
        "knn = KNeighborsClassifier(n_neighbors=3, n_jobs=-1)\n",
        "knn.fit(X_train, y_train)\n",
        "print(knn)\n",
        "y_pred_knn = knn.predict(X_test)\n",
        "acc_knn = accuracy_score(y_test, y_pred_knn)\n",
        "print ('KNN accuracy: ',acc_knn)"
      ],
      "metadata": {
        "colab": {
          "base_uri": "https://localhost:8080/"
        },
        "id": "zkUA8Q-P9hPU",
        "outputId": "77b1c291-1128-4e4e-88bd-6faf59ed76c7"
      },
      "execution_count": null,
      "outputs": [
        {
          "output_type": "stream",
          "name": "stdout",
          "text": [
            "KNeighborsClassifier(n_jobs=-1, n_neighbors=3)\n",
            "KNN accuracy:  0.525\n"
          ]
        }
      ]
    },
    {
      "cell_type": "markdown",
      "source": [
        "Random Forest"
      ],
      "metadata": {
        "id": "NwTgAmW7IAap"
      }
    },
    {
      "cell_type": "code",
      "source": [
        "# Base RFC model\n",
        "rfc = RandomForestClassifier(random_state=1)\n",
        "rfc.fit(X_train, y_train)\n",
        "print(rfc)\n",
        "y_pred_rfc = rfc.predict(X_test)\n",
        "acc_rfc = accuracy_score(y_test, y_pred_rfc)\n",
        "print ('Random forest accuracy: ',acc_rfc)"
      ],
      "metadata": {
        "colab": {
          "base_uri": "https://localhost:8080/"
        },
        "id": "yPkYmiOu9h-n",
        "outputId": "1b4766f5-8e1c-455c-8591-4e6cbeb3246f"
      },
      "execution_count": null,
      "outputs": [
        {
          "output_type": "stream",
          "name": "stdout",
          "text": [
            "RandomForestClassifier(random_state=1)\n",
            "Random forest accuracy:  0.5464444444444444\n"
          ]
        }
      ]
    },
    {
      "cell_type": "code",
      "source": [
        "# Tuning number of estimators in the ensemble method\n",
        "parameters = {'n_estimators': np.arange(10,150,10)}\n",
        "rfc = RandomForestClassifier(random_state=1, n_jobs=-1)\n",
        "rfc_gs = GridSearchCV(rfc, parameters, n_jobs=-1)\n",
        "rfc_gs.fit(X_train, y_train)\n",
        "\n",
        "results_rfc_gs = pd.DataFrame(rfc_gs.cv_results_)\n",
        "results_rfc_gs.sort_values('mean_test_score', ascending = False)"
      ],
      "metadata": {
        "colab": {
          "base_uri": "https://localhost:8080/",
          "height": 795
        },
        "id": "rxi96DVu9k6L",
        "outputId": "8eaa08a5-aeb5-4f0d-a888-58affb0a977e"
      },
      "execution_count": null,
      "outputs": [
        {
          "output_type": "execute_result",
          "data": {
            "text/plain": [
              "    mean_fit_time  std_fit_time  mean_score_time  std_score_time  \\\n",
              "13      29.826254      2.454580         0.393903        0.092140   \n",
              "12      28.954681      0.597557         0.398689        0.050345   \n",
              "11      26.819641      0.439269         0.400692        0.049890   \n",
              "10      24.776334      0.883617         0.367375        0.037187   \n",
              "9       22.277306      0.338911         0.355951        0.044605   \n",
              "8       20.147897      0.479284         0.340692        0.002937   \n",
              "7       18.311527      0.624091         0.299045        0.048912   \n",
              "6       16.153315      0.393964         0.261253        0.041441   \n",
              "5       13.480543      0.164458         0.262517        0.045233   \n",
              "4       11.643224      0.435631         0.239914        0.004979   \n",
              "3        9.359082      0.419764         0.204529        0.044004   \n",
              "2        7.035313      0.338780         0.201845        0.051162   \n",
              "1        4.545699      0.054798         0.134276        0.009187   \n",
              "0        2.561518      0.152000         0.116444        0.007427   \n",
              "\n",
              "   param_n_estimators                 params  split0_test_score  \\\n",
              "13                140  {'n_estimators': 140}           0.540476   \n",
              "12                130  {'n_estimators': 130}           0.539762   \n",
              "11                120  {'n_estimators': 120}           0.540476   \n",
              "10                110  {'n_estimators': 110}           0.540476   \n",
              "9                 100  {'n_estimators': 100}           0.533571   \n",
              "8                  90   {'n_estimators': 90}           0.535952   \n",
              "7                  80   {'n_estimators': 80}           0.531190   \n",
              "6                  70   {'n_estimators': 70}           0.524048   \n",
              "5                  60   {'n_estimators': 60}           0.516905   \n",
              "4                  50   {'n_estimators': 50}           0.514048   \n",
              "3                  40   {'n_estimators': 40}           0.509048   \n",
              "2                  30   {'n_estimators': 30}           0.501429   \n",
              "1                  20   {'n_estimators': 20}           0.477143   \n",
              "0                  10   {'n_estimators': 10}           0.428810   \n",
              "\n",
              "    split1_test_score  split2_test_score  split3_test_score  \\\n",
              "13           0.552619           0.545238           0.546905   \n",
              "12           0.550476           0.545714           0.545238   \n",
              "11           0.549524           0.543333           0.541905   \n",
              "10           0.550238           0.544762           0.539286   \n",
              "9            0.547857           0.537381           0.536905   \n",
              "8            0.542619           0.537381           0.534286   \n",
              "7            0.533571           0.536429           0.534286   \n",
              "6            0.536905           0.532619           0.528571   \n",
              "5            0.529286           0.526667           0.524524   \n",
              "4            0.530000           0.518571           0.523810   \n",
              "3            0.520000           0.510714           0.519524   \n",
              "2            0.505238           0.500000           0.504524   \n",
              "1            0.488810           0.471190           0.485238   \n",
              "0            0.419524           0.402857           0.434048   \n",
              "\n",
              "    split4_test_score  mean_test_score  std_test_score  rank_test_score  \n",
              "13           0.551905         0.547429        0.004481                1  \n",
              "12           0.554762         0.547190        0.005085                2  \n",
              "11           0.556190         0.546286        0.005835                3  \n",
              "10           0.552857         0.545524        0.005310                4  \n",
              "9            0.553095         0.541762        0.007422                5  \n",
              "8            0.545952         0.539238        0.004365                6  \n",
              "7            0.546429         0.536381        0.005295                7  \n",
              "6            0.542857         0.533000        0.006516                8  \n",
              "5            0.537857         0.527048        0.006801                9  \n",
              "4            0.523333         0.521952        0.005367               10  \n",
              "3            0.515476         0.514952        0.004460               11  \n",
              "2            0.506429         0.503524        0.002416               12  \n",
              "1            0.477619         0.480000        0.006269               13  \n",
              "0            0.418333         0.420714        0.010670               14  "
            ],
            "text/html": [
              "\n",
              "  <div id=\"df-f23ac82f-9b02-432b-a8fc-ffd76c7b65b8\">\n",
              "    <div class=\"colab-df-container\">\n",
              "      <div>\n",
              "<style scoped>\n",
              "    .dataframe tbody tr th:only-of-type {\n",
              "        vertical-align: middle;\n",
              "    }\n",
              "\n",
              "    .dataframe tbody tr th {\n",
              "        vertical-align: top;\n",
              "    }\n",
              "\n",
              "    .dataframe thead th {\n",
              "        text-align: right;\n",
              "    }\n",
              "</style>\n",
              "<table border=\"1\" class=\"dataframe\">\n",
              "  <thead>\n",
              "    <tr style=\"text-align: right;\">\n",
              "      <th></th>\n",
              "      <th>mean_fit_time</th>\n",
              "      <th>std_fit_time</th>\n",
              "      <th>mean_score_time</th>\n",
              "      <th>std_score_time</th>\n",
              "      <th>param_n_estimators</th>\n",
              "      <th>params</th>\n",
              "      <th>split0_test_score</th>\n",
              "      <th>split1_test_score</th>\n",
              "      <th>split2_test_score</th>\n",
              "      <th>split3_test_score</th>\n",
              "      <th>split4_test_score</th>\n",
              "      <th>mean_test_score</th>\n",
              "      <th>std_test_score</th>\n",
              "      <th>rank_test_score</th>\n",
              "    </tr>\n",
              "  </thead>\n",
              "  <tbody>\n",
              "    <tr>\n",
              "      <th>13</th>\n",
              "      <td>29.826254</td>\n",
              "      <td>2.454580</td>\n",
              "      <td>0.393903</td>\n",
              "      <td>0.092140</td>\n",
              "      <td>140</td>\n",
              "      <td>{'n_estimators': 140}</td>\n",
              "      <td>0.540476</td>\n",
              "      <td>0.552619</td>\n",
              "      <td>0.545238</td>\n",
              "      <td>0.546905</td>\n",
              "      <td>0.551905</td>\n",
              "      <td>0.547429</td>\n",
              "      <td>0.004481</td>\n",
              "      <td>1</td>\n",
              "    </tr>\n",
              "    <tr>\n",
              "      <th>12</th>\n",
              "      <td>28.954681</td>\n",
              "      <td>0.597557</td>\n",
              "      <td>0.398689</td>\n",
              "      <td>0.050345</td>\n",
              "      <td>130</td>\n",
              "      <td>{'n_estimators': 130}</td>\n",
              "      <td>0.539762</td>\n",
              "      <td>0.550476</td>\n",
              "      <td>0.545714</td>\n",
              "      <td>0.545238</td>\n",
              "      <td>0.554762</td>\n",
              "      <td>0.547190</td>\n",
              "      <td>0.005085</td>\n",
              "      <td>2</td>\n",
              "    </tr>\n",
              "    <tr>\n",
              "      <th>11</th>\n",
              "      <td>26.819641</td>\n",
              "      <td>0.439269</td>\n",
              "      <td>0.400692</td>\n",
              "      <td>0.049890</td>\n",
              "      <td>120</td>\n",
              "      <td>{'n_estimators': 120}</td>\n",
              "      <td>0.540476</td>\n",
              "      <td>0.549524</td>\n",
              "      <td>0.543333</td>\n",
              "      <td>0.541905</td>\n",
              "      <td>0.556190</td>\n",
              "      <td>0.546286</td>\n",
              "      <td>0.005835</td>\n",
              "      <td>3</td>\n",
              "    </tr>\n",
              "    <tr>\n",
              "      <th>10</th>\n",
              "      <td>24.776334</td>\n",
              "      <td>0.883617</td>\n",
              "      <td>0.367375</td>\n",
              "      <td>0.037187</td>\n",
              "      <td>110</td>\n",
              "      <td>{'n_estimators': 110}</td>\n",
              "      <td>0.540476</td>\n",
              "      <td>0.550238</td>\n",
              "      <td>0.544762</td>\n",
              "      <td>0.539286</td>\n",
              "      <td>0.552857</td>\n",
              "      <td>0.545524</td>\n",
              "      <td>0.005310</td>\n",
              "      <td>4</td>\n",
              "    </tr>\n",
              "    <tr>\n",
              "      <th>9</th>\n",
              "      <td>22.277306</td>\n",
              "      <td>0.338911</td>\n",
              "      <td>0.355951</td>\n",
              "      <td>0.044605</td>\n",
              "      <td>100</td>\n",
              "      <td>{'n_estimators': 100}</td>\n",
              "      <td>0.533571</td>\n",
              "      <td>0.547857</td>\n",
              "      <td>0.537381</td>\n",
              "      <td>0.536905</td>\n",
              "      <td>0.553095</td>\n",
              "      <td>0.541762</td>\n",
              "      <td>0.007422</td>\n",
              "      <td>5</td>\n",
              "    </tr>\n",
              "    <tr>\n",
              "      <th>8</th>\n",
              "      <td>20.147897</td>\n",
              "      <td>0.479284</td>\n",
              "      <td>0.340692</td>\n",
              "      <td>0.002937</td>\n",
              "      <td>90</td>\n",
              "      <td>{'n_estimators': 90}</td>\n",
              "      <td>0.535952</td>\n",
              "      <td>0.542619</td>\n",
              "      <td>0.537381</td>\n",
              "      <td>0.534286</td>\n",
              "      <td>0.545952</td>\n",
              "      <td>0.539238</td>\n",
              "      <td>0.004365</td>\n",
              "      <td>6</td>\n",
              "    </tr>\n",
              "    <tr>\n",
              "      <th>7</th>\n",
              "      <td>18.311527</td>\n",
              "      <td>0.624091</td>\n",
              "      <td>0.299045</td>\n",
              "      <td>0.048912</td>\n",
              "      <td>80</td>\n",
              "      <td>{'n_estimators': 80}</td>\n",
              "      <td>0.531190</td>\n",
              "      <td>0.533571</td>\n",
              "      <td>0.536429</td>\n",
              "      <td>0.534286</td>\n",
              "      <td>0.546429</td>\n",
              "      <td>0.536381</td>\n",
              "      <td>0.005295</td>\n",
              "      <td>7</td>\n",
              "    </tr>\n",
              "    <tr>\n",
              "      <th>6</th>\n",
              "      <td>16.153315</td>\n",
              "      <td>0.393964</td>\n",
              "      <td>0.261253</td>\n",
              "      <td>0.041441</td>\n",
              "      <td>70</td>\n",
              "      <td>{'n_estimators': 70}</td>\n",
              "      <td>0.524048</td>\n",
              "      <td>0.536905</td>\n",
              "      <td>0.532619</td>\n",
              "      <td>0.528571</td>\n",
              "      <td>0.542857</td>\n",
              "      <td>0.533000</td>\n",
              "      <td>0.006516</td>\n",
              "      <td>8</td>\n",
              "    </tr>\n",
              "    <tr>\n",
              "      <th>5</th>\n",
              "      <td>13.480543</td>\n",
              "      <td>0.164458</td>\n",
              "      <td>0.262517</td>\n",
              "      <td>0.045233</td>\n",
              "      <td>60</td>\n",
              "      <td>{'n_estimators': 60}</td>\n",
              "      <td>0.516905</td>\n",
              "      <td>0.529286</td>\n",
              "      <td>0.526667</td>\n",
              "      <td>0.524524</td>\n",
              "      <td>0.537857</td>\n",
              "      <td>0.527048</td>\n",
              "      <td>0.006801</td>\n",
              "      <td>9</td>\n",
              "    </tr>\n",
              "    <tr>\n",
              "      <th>4</th>\n",
              "      <td>11.643224</td>\n",
              "      <td>0.435631</td>\n",
              "      <td>0.239914</td>\n",
              "      <td>0.004979</td>\n",
              "      <td>50</td>\n",
              "      <td>{'n_estimators': 50}</td>\n",
              "      <td>0.514048</td>\n",
              "      <td>0.530000</td>\n",
              "      <td>0.518571</td>\n",
              "      <td>0.523810</td>\n",
              "      <td>0.523333</td>\n",
              "      <td>0.521952</td>\n",
              "      <td>0.005367</td>\n",
              "      <td>10</td>\n",
              "    </tr>\n",
              "    <tr>\n",
              "      <th>3</th>\n",
              "      <td>9.359082</td>\n",
              "      <td>0.419764</td>\n",
              "      <td>0.204529</td>\n",
              "      <td>0.044004</td>\n",
              "      <td>40</td>\n",
              "      <td>{'n_estimators': 40}</td>\n",
              "      <td>0.509048</td>\n",
              "      <td>0.520000</td>\n",
              "      <td>0.510714</td>\n",
              "      <td>0.519524</td>\n",
              "      <td>0.515476</td>\n",
              "      <td>0.514952</td>\n",
              "      <td>0.004460</td>\n",
              "      <td>11</td>\n",
              "    </tr>\n",
              "    <tr>\n",
              "      <th>2</th>\n",
              "      <td>7.035313</td>\n",
              "      <td>0.338780</td>\n",
              "      <td>0.201845</td>\n",
              "      <td>0.051162</td>\n",
              "      <td>30</td>\n",
              "      <td>{'n_estimators': 30}</td>\n",
              "      <td>0.501429</td>\n",
              "      <td>0.505238</td>\n",
              "      <td>0.500000</td>\n",
              "      <td>0.504524</td>\n",
              "      <td>0.506429</td>\n",
              "      <td>0.503524</td>\n",
              "      <td>0.002416</td>\n",
              "      <td>12</td>\n",
              "    </tr>\n",
              "    <tr>\n",
              "      <th>1</th>\n",
              "      <td>4.545699</td>\n",
              "      <td>0.054798</td>\n",
              "      <td>0.134276</td>\n",
              "      <td>0.009187</td>\n",
              "      <td>20</td>\n",
              "      <td>{'n_estimators': 20}</td>\n",
              "      <td>0.477143</td>\n",
              "      <td>0.488810</td>\n",
              "      <td>0.471190</td>\n",
              "      <td>0.485238</td>\n",
              "      <td>0.477619</td>\n",
              "      <td>0.480000</td>\n",
              "      <td>0.006269</td>\n",
              "      <td>13</td>\n",
              "    </tr>\n",
              "    <tr>\n",
              "      <th>0</th>\n",
              "      <td>2.561518</td>\n",
              "      <td>0.152000</td>\n",
              "      <td>0.116444</td>\n",
              "      <td>0.007427</td>\n",
              "      <td>10</td>\n",
              "      <td>{'n_estimators': 10}</td>\n",
              "      <td>0.428810</td>\n",
              "      <td>0.419524</td>\n",
              "      <td>0.402857</td>\n",
              "      <td>0.434048</td>\n",
              "      <td>0.418333</td>\n",
              "      <td>0.420714</td>\n",
              "      <td>0.010670</td>\n",
              "      <td>14</td>\n",
              "    </tr>\n",
              "  </tbody>\n",
              "</table>\n",
              "</div>\n",
              "      <button class=\"colab-df-convert\" onclick=\"convertToInteractive('df-f23ac82f-9b02-432b-a8fc-ffd76c7b65b8')\"\n",
              "              title=\"Convert this dataframe to an interactive table.\"\n",
              "              style=\"display:none;\">\n",
              "        \n",
              "  <svg xmlns=\"http://www.w3.org/2000/svg\" height=\"24px\"viewBox=\"0 0 24 24\"\n",
              "       width=\"24px\">\n",
              "    <path d=\"M0 0h24v24H0V0z\" fill=\"none\"/>\n",
              "    <path d=\"M18.56 5.44l.94 2.06.94-2.06 2.06-.94-2.06-.94-.94-2.06-.94 2.06-2.06.94zm-11 1L8.5 8.5l.94-2.06 2.06-.94-2.06-.94L8.5 2.5l-.94 2.06-2.06.94zm10 10l.94 2.06.94-2.06 2.06-.94-2.06-.94-.94-2.06-.94 2.06-2.06.94z\"/><path d=\"M17.41 7.96l-1.37-1.37c-.4-.4-.92-.59-1.43-.59-.52 0-1.04.2-1.43.59L10.3 9.45l-7.72 7.72c-.78.78-.78 2.05 0 2.83L4 21.41c.39.39.9.59 1.41.59.51 0 1.02-.2 1.41-.59l7.78-7.78 2.81-2.81c.8-.78.8-2.07 0-2.86zM5.41 20L4 18.59l7.72-7.72 1.47 1.35L5.41 20z\"/>\n",
              "  </svg>\n",
              "      </button>\n",
              "      \n",
              "  <style>\n",
              "    .colab-df-container {\n",
              "      display:flex;\n",
              "      flex-wrap:wrap;\n",
              "      gap: 12px;\n",
              "    }\n",
              "\n",
              "    .colab-df-convert {\n",
              "      background-color: #E8F0FE;\n",
              "      border: none;\n",
              "      border-radius: 50%;\n",
              "      cursor: pointer;\n",
              "      display: none;\n",
              "      fill: #1967D2;\n",
              "      height: 32px;\n",
              "      padding: 0 0 0 0;\n",
              "      width: 32px;\n",
              "    }\n",
              "\n",
              "    .colab-df-convert:hover {\n",
              "      background-color: #E2EBFA;\n",
              "      box-shadow: 0px 1px 2px rgba(60, 64, 67, 0.3), 0px 1px 3px 1px rgba(60, 64, 67, 0.15);\n",
              "      fill: #174EA6;\n",
              "    }\n",
              "\n",
              "    [theme=dark] .colab-df-convert {\n",
              "      background-color: #3B4455;\n",
              "      fill: #D2E3FC;\n",
              "    }\n",
              "\n",
              "    [theme=dark] .colab-df-convert:hover {\n",
              "      background-color: #434B5C;\n",
              "      box-shadow: 0px 1px 3px 1px rgba(0, 0, 0, 0.15);\n",
              "      filter: drop-shadow(0px 1px 2px rgba(0, 0, 0, 0.3));\n",
              "      fill: #FFFFFF;\n",
              "    }\n",
              "  </style>\n",
              "\n",
              "      <script>\n",
              "        const buttonEl =\n",
              "          document.querySelector('#df-f23ac82f-9b02-432b-a8fc-ffd76c7b65b8 button.colab-df-convert');\n",
              "        buttonEl.style.display =\n",
              "          google.colab.kernel.accessAllowed ? 'block' : 'none';\n",
              "\n",
              "        async function convertToInteractive(key) {\n",
              "          const element = document.querySelector('#df-f23ac82f-9b02-432b-a8fc-ffd76c7b65b8');\n",
              "          const dataTable =\n",
              "            await google.colab.kernel.invokeFunction('convertToInteractive',\n",
              "                                                     [key], {});\n",
              "          if (!dataTable) return;\n",
              "\n",
              "          const docLinkHtml = 'Like what you see? Visit the ' +\n",
              "            '<a target=\"_blank\" href=https://colab.research.google.com/notebooks/data_table.ipynb>data table notebook</a>'\n",
              "            + ' to learn more about interactive tables.';\n",
              "          element.innerHTML = '';\n",
              "          dataTable['output_type'] = 'display_data';\n",
              "          await google.colab.output.renderOutput(dataTable, element);\n",
              "          const docLink = document.createElement('div');\n",
              "          docLink.innerHTML = docLinkHtml;\n",
              "          element.appendChild(docLink);\n",
              "        }\n",
              "      </script>\n",
              "    </div>\n",
              "  </div>\n",
              "  "
            ]
          },
          "metadata": {},
          "execution_count": 15
        }
      ]
    },
    {
      "cell_type": "code",
      "source": [
        "# Plot results of grid search\n",
        "results_rfc_gs.plot('param_n_estimators','mean_test_score')"
      ],
      "metadata": {
        "colab": {
          "base_uri": "https://localhost:8080/",
          "height": 298
        },
        "id": "-vOlAKyN9nVJ",
        "outputId": "14f55b81-d36d-435d-9a9e-a2d4601a543d"
      },
      "execution_count": null,
      "outputs": [
        {
          "output_type": "execute_result",
          "data": {
            "text/plain": [
              "<matplotlib.axes._subplots.AxesSubplot at 0x7fd642223290>"
            ]
          },
          "metadata": {},
          "execution_count": 16
        },
        {
          "output_type": "display_data",
          "data": {
            "text/plain": [
              "<Figure size 432x288 with 1 Axes>"
            ],
            "image/png": "[encoded data removed]"
          },
          "metadata": {
            "needs_background": "light"
          }
        }
      ]
    },
    {
      "cell_type": "code",
      "source": [
        "# Tuning max features\n",
        "parameters = {'max_features':['sqrt',.1,.3,.5]}\n",
        "\n",
        "rfc = RandomForestClassifier(n_estimators= 80, random_state=1, n_jobs=-1)\n",
        "rfc_gs = GridSearchCV(rfc, parameters, n_jobs=-1)\n",
        "rfc_gs.fit(X_train, y_train)\n",
        "\n",
        "results_rfc_gs = pd.DataFrame(rfc_gs.cv_results_)\n",
        "results_rfc_gs.sort_values('mean_test_score', ascending = False)"
      ],
      "metadata": {
        "colab": {
          "base_uri": "https://localhost:8080/",
          "height": 308
        },
        "id": "RAt77OuK9vVs",
        "outputId": "0c22de34-ce8f-4edc-d05e-d1919dc041a3"
      },
      "execution_count": null,
      "outputs": [
        {
          "output_type": "execute_result",
          "data": {
            "text/plain": [
              "   mean_fit_time  std_fit_time  mean_score_time  std_score_time  \\\n",
              "2     127.252344      0.519603         0.260085        0.038590   \n",
              "0      18.556471      0.409548         0.221138        0.010966   \n",
              "1      44.536055      0.542510         0.241866        0.002493   \n",
              "3     197.067650     21.187857         0.256684        0.086681   \n",
              "\n",
              "  param_max_features                    params  split0_test_score  \\\n",
              "2                0.3     {'max_features': 0.3}           0.529762   \n",
              "0               sqrt  {'max_features': 'sqrt'}           0.531190   \n",
              "1                0.1     {'max_features': 0.1}           0.530714   \n",
              "3                0.5     {'max_features': 0.5}           0.533333   \n",
              "\n",
              "   split1_test_score  split2_test_score  split3_test_score  split4_test_score  \\\n",
              "2           0.537857           0.540952           0.538810           0.537381   \n",
              "0           0.533571           0.536429           0.534286           0.546429   \n",
              "1           0.546667           0.534048           0.534286           0.534048   \n",
              "3           0.540238           0.525476           0.536190           0.532857   \n",
              "\n",
              "   mean_test_score  std_test_score  rank_test_score  \n",
              "2         0.536952        0.003799                1  \n",
              "0         0.536381        0.005295                2  \n",
              "1         0.535952        0.005518                3  \n",
              "3         0.533619        0.004845                4  "
            ],
            "text/html": [
              "\n",
              "  <div id=\"df-e7cf9e62-4f97-4cd6-9f2e-421de3704197\">\n",
              "    <div class=\"colab-df-container\">\n",
              "      <div>\n",
              "<style scoped>\n",
              "    .dataframe tbody tr th:only-of-type {\n",
              "        vertical-align: middle;\n",
              "    }\n",
              "\n",
              "    .dataframe tbody tr th {\n",
              "        vertical-align: top;\n",
              "    }\n",
              "\n",
              "    .dataframe thead th {\n",
              "        text-align: right;\n",
              "    }\n",
              "</style>\n",
              "<table border=\"1\" class=\"dataframe\">\n",
              "  <thead>\n",
              "    <tr style=\"text-align: right;\">\n",
              "      <th></th>\n",
              "      <th>mean_fit_time</th>\n",
              "      <th>std_fit_time</th>\n",
              "      <th>mean_score_time</th>\n",
              "      <th>std_score_time</th>\n",
              "      <th>param_max_features</th>\n",
              "      <th>params</th>\n",
              "      <th>split0_test_score</th>\n",
              "      <th>split1_test_score</th>\n",
              "      <th>split2_test_score</th>\n",
              "      <th>split3_test_score</th>\n",
              "      <th>split4_test_score</th>\n",
              "      <th>mean_test_score</th>\n",
              "      <th>std_test_score</th>\n",
              "      <th>rank_test_score</th>\n",
              "    </tr>\n",
              "  </thead>\n",
              "  <tbody>\n",
              "    <tr>\n",
              "      <th>2</th>\n",
              "      <td>127.252344</td>\n",
              "      <td>0.519603</td>\n",
              "      <td>0.260085</td>\n",
              "      <td>0.038590</td>\n",
              "      <td>0.3</td>\n",
              "      <td>{'max_features': 0.3}</td>\n",
              "      <td>0.529762</td>\n",
              "      <td>0.537857</td>\n",
              "      <td>0.540952</td>\n",
              "      <td>0.538810</td>\n",
              "      <td>0.537381</td>\n",
              "      <td>0.536952</td>\n",
              "      <td>0.003799</td>\n",
              "      <td>1</td>\n",
              "    </tr>\n",
              "    <tr>\n",
              "      <th>0</th>\n",
              "      <td>18.556471</td>\n",
              "      <td>0.409548</td>\n",
              "      <td>0.221138</td>\n",
              "      <td>0.010966</td>\n",
              "      <td>sqrt</td>\n",
              "      <td>{'max_features': 'sqrt'}</td>\n",
              "      <td>0.531190</td>\n",
              "      <td>0.533571</td>\n",
              "      <td>0.536429</td>\n",
              "      <td>0.534286</td>\n",
              "      <td>0.546429</td>\n",
              "      <td>0.536381</td>\n",
              "      <td>0.005295</td>\n",
              "      <td>2</td>\n",
              "    </tr>\n",
              "    <tr>\n",
              "      <th>1</th>\n",
              "      <td>44.536055</td>\n",
              "      <td>0.542510</td>\n",
              "      <td>0.241866</td>\n",
              "      <td>0.002493</td>\n",
              "      <td>0.1</td>\n",
              "      <td>{'max_features': 0.1}</td>\n",
              "      <td>0.530714</td>\n",
              "      <td>0.546667</td>\n",
              "      <td>0.534048</td>\n",
              "      <td>0.534286</td>\n",
              "      <td>0.534048</td>\n",
              "      <td>0.535952</td>\n",
              "      <td>0.005518</td>\n",
              "      <td>3</td>\n",
              "    </tr>\n",
              "    <tr>\n",
              "      <th>3</th>\n",
              "      <td>197.067650</td>\n",
              "      <td>21.187857</td>\n",
              "      <td>0.256684</td>\n",
              "      <td>0.086681</td>\n",
              "      <td>0.5</td>\n",
              "      <td>{'max_features': 0.5}</td>\n",
              "      <td>0.533333</td>\n",
              "      <td>0.540238</td>\n",
              "      <td>0.525476</td>\n",
              "      <td>0.536190</td>\n",
              "      <td>0.532857</td>\n",
              "      <td>0.533619</td>\n",
              "      <td>0.004845</td>\n",
              "      <td>4</td>\n",
              "    </tr>\n",
              "  </tbody>\n",
              "</table>\n",
              "</div>\n",
              "      <button class=\"colab-df-convert\" onclick=\"convertToInteractive('df-e7cf9e62-4f97-4cd6-9f2e-421de3704197')\"\n",
              "              title=\"Convert this dataframe to an interactive table.\"\n",
              "              style=\"display:none;\">\n",
              "        \n",
              "  <svg xmlns=\"http://www.w3.org/2000/svg\" height=\"24px\"viewBox=\"0 0 24 24\"\n",
              "       width=\"24px\">\n",
              "    <path d=\"M0 0h24v24H0V0z\" fill=\"none\"/>\n",
              "    <path d=\"M18.56 5.44l.94 2.06.94-2.06 2.06-.94-2.06-.94-.94-2.06-.94 2.06-2.06.94zm-11 1L8.5 8.5l.94-2.06 2.06-.94-2.06-.94L8.5 2.5l-.94 2.06-2.06.94zm10 10l.94 2.06.94-2.06 2.06-.94-2.06-.94-.94-2.06-.94 2.06-2.06.94z\"/><path d=\"M17.41 7.96l-1.37-1.37c-.4-.4-.92-.59-1.43-.59-.52 0-1.04.2-1.43.59L10.3 9.45l-7.72 7.72c-.78.78-.78 2.05 0 2.83L4 21.41c.39.39.9.59 1.41.59.51 0 1.02-.2 1.41-.59l7.78-7.78 2.81-2.81c.8-.78.8-2.07 0-2.86zM5.41 20L4 18.59l7.72-7.72 1.47 1.35L5.41 20z\"/>\n",
              "  </svg>\n",
              "      </button>\n",
              "      \n",
              "  <style>\n",
              "    .colab-df-container {\n",
              "      display:flex;\n",
              "      flex-wrap:wrap;\n",
              "      gap: 12px;\n",
              "    }\n",
              "\n",
              "    .colab-df-convert {\n",
              "      background-color: #E8F0FE;\n",
              "      border: none;\n",
              "      border-radius: 50%;\n",
              "      cursor: pointer;\n",
              "      display: none;\n",
              "      fill: #1967D2;\n",
              "      height: 32px;\n",
              "      padding: 0 0 0 0;\n",
              "      width: 32px;\n",
              "    }\n",
              "\n",
              "    .colab-df-convert:hover {\n",
              "      background-color: #E2EBFA;\n",
              "      box-shadow: 0px 1px 2px rgba(60, 64, 67, 0.3), 0px 1px 3px 1px rgba(60, 64, 67, 0.15);\n",
              "      fill: #174EA6;\n",
              "    }\n",
              "\n",
              "    [theme=dark] .colab-df-convert {\n",
              "      background-color: #3B4455;\n",
              "      fill: #D2E3FC;\n",
              "    }\n",
              "\n",
              "    [theme=dark] .colab-df-convert:hover {\n",
              "      background-color: #434B5C;\n",
              "      box-shadow: 0px 1px 3px 1px rgba(0, 0, 0, 0.15);\n",
              "      filter: drop-shadow(0px 1px 2px rgba(0, 0, 0, 0.3));\n",
              "      fill: #FFFFFF;\n",
              "    }\n",
              "  </style>\n",
              "\n",
              "      <script>\n",
              "        const buttonEl =\n",
              "          document.querySelector('#df-e7cf9e62-4f97-4cd6-9f2e-421de3704197 button.colab-df-convert');\n",
              "        buttonEl.style.display =\n",
              "          google.colab.kernel.accessAllowed ? 'block' : 'none';\n",
              "\n",
              "        async function convertToInteractive(key) {\n",
              "          const element = document.querySelector('#df-e7cf9e62-4f97-4cd6-9f2e-421de3704197');\n",
              "          const dataTable =\n",
              "            await google.colab.kernel.invokeFunction('convertToInteractive',\n",
              "                                                     [key], {});\n",
              "          if (!dataTable) return;\n",
              "\n",
              "          const docLinkHtml = 'Like what you see? Visit the ' +\n",
              "            '<a target=\"_blank\" href=https://colab.research.google.com/notebooks/data_table.ipynb>data table notebook</a>'\n",
              "            + ' to learn more about interactive tables.';\n",
              "          element.innerHTML = '';\n",
              "          dataTable['output_type'] = 'display_data';\n",
              "          await google.colab.output.renderOutput(dataTable, element);\n",
              "          const docLink = document.createElement('div');\n",
              "          docLink.innerHTML = docLinkHtml;\n",
              "          element.appendChild(docLink);\n",
              "        }\n",
              "      </script>\n",
              "    </div>\n",
              "  </div>\n",
              "  "
            ]
          },
          "metadata": {},
          "execution_count": 17
        }
      ]
    },
    {
      "cell_type": "code",
      "source": [
        "# Plot results of grid search\n",
        "results_rfc_gs.plot('param_max_features','mean_test_score')"
      ],
      "metadata": {
        "colab": {
          "base_uri": "https://localhost:8080/",
          "height": 298
        },
        "id": "2mX8UPXF9wOI",
        "outputId": "85d312af-7bd7-4842-cee0-5a7af8412f71"
      },
      "execution_count": null,
      "outputs": [
        {
          "output_type": "execute_result",
          "data": {
            "text/plain": [
              "<matplotlib.axes._subplots.AxesSubplot at 0x7fd642426cd0>"
            ]
          },
          "metadata": {},
          "execution_count": 18
        },
        {
          "output_type": "display_data",
          "data": {
            "text/plain": [
              "<Figure size 432x288 with 1 Axes>"
            ],
            "image/png": "[encoded data removed]"
          },
          "metadata": {
            "needs_background": "light"
          }
        }
      ]
    },
    {
      "cell_type": "code",
      "source": [
        "# Modeling RFC with best hyper-parameters\n",
        "rfc = RandomForestClassifier(n_estimators=80, max_features='sqrt', random_state=1, n_jobs=-1)\n",
        "rfc.fit(X_train, y_train)\n",
        "y_pred_rfc = rfc.predict(X_test)\n",
        "acc_rfc = accuracy_score(y_test, y_pred_rfc)\n",
        "print ('Random forest accuracy: ',acc_rfc)"
      ],
      "metadata": {
        "colab": {
          "base_uri": "https://localhost:8080/"
        },
        "id": "MzpI3iIy9zKu",
        "outputId": "729be7c5-90be-4aa9-9650-677382f8bf0c"
      },
      "execution_count": null,
      "outputs": [
        {
          "output_type": "stream",
          "name": "stdout",
          "text": [
            "Random forest accuracy:  0.5407777777777778\n"
          ]
        }
      ]
    },
    {
      "cell_type": "code",
      "source": [
        "# Seeing what pixels are the most important in deciding the label\n",
        "importances = rfc.feature_importances_\n",
        "importances = importances.reshape((28,28))\n",
        "fig = plt.matshow(importances, cmap=plt.cm.hot)\n",
        "plt.title('Pixel importances\\n')\n",
        "plt.colorbar()"
      ],
      "metadata": {
        "colab": {
          "base_uri": "https://localhost:8080/",
          "height": 296
        },
        "id": "j2ggkHXA9226",
        "outputId": "133253b7-cd5a-4aa3-d892-5d156b46d9b3"
      },
      "execution_count": null,
      "outputs": [
        {
          "output_type": "execute_result",
          "data": {
            "text/plain": [
              "<matplotlib.colorbar.Colorbar at 0x7fd642b64f10>"
            ]
          },
          "metadata": {},
          "execution_count": 20
        },
        {
          "output_type": "display_data",
          "data": {
            "text/plain": [
              "<Figure size 288x288 with 2 Axes>"
            ],
            "image/png": "[encoded data removed]"
          },
          "metadata": {
            "needs_background": "light"
          }
        }
      ]
    },
    {
      "cell_type": "markdown",
      "source": [
        "Support Vector Machine"
      ],
      "metadata": {
        "id": "RYPGC1-tIHhH"
      }
    },
    {
      "cell_type": "markdown",
      "source": [
        "LinearSVC"
      ],
      "metadata": {
        "id": "dOiQx0q3IcKk"
      }
    },
    {
      "cell_type": "code",
      "source": [
        "lsvc = LinearSVC(random_state=1)\n",
        "lsvc.fit(X_train, y_train)\n",
        "print(lsvc)\n",
        "y_pred_lsvc = lsvc.predict(X_test)\n",
        "acc_lsvc = accuracy_score(y_test, y_pred_lsvc)\n",
        "print('Linear SVC accuracy: ',acc_lsvc)"
      ],
      "metadata": {
        "colab": {
          "base_uri": "https://localhost:8080/"
        },
        "id": "7dbE0tzB957z",
        "outputId": "47ce7ff5-d0b9-4616-b9fa-61983e4227dd"
      },
      "execution_count": null,
      "outputs": [
        {
          "output_type": "stream",
          "name": "stdout",
          "text": [
            "LinearSVC(random_state=1)\n",
            "Linear SVC accuracy:  0.45011111111111113\n"
          ]
        },
        {
          "output_type": "stream",
          "name": "stderr",
          "text": [
            "/usr/local/lib/python3.7/dist-packages/sklearn/svm/_base.py:1208: ConvergenceWarning: Liblinear failed to converge, increase the number of iterations.\n",
            "  ConvergenceWarning,\n"
          ]
        }
      ]
    },
    {
      "cell_type": "markdown",
      "source": [
        "Non-Linear SVM (Radial Basis Function)"
      ],
      "metadata": {
        "id": "2Zr7WFMnIgT3"
      }
    },
    {
      "cell_type": "code",
      "source": [
        "svc = SVC(kernel='rbf', random_state=1) \n",
        "svc.fit(X_train, y_train)\n",
        "print(svc)\n",
        "y_pred_svc = svc.predict(X_test)\n",
        "acc_svc = accuracy_score(y_test, y_pred_svc)\n",
        "print ('Gaussian Radial Basis Function SVC Accuracy: ',acc_svc)"
      ],
      "metadata": {
        "colab": {
          "base_uri": "https://localhost:8080/"
        },
        "id": "2Kw5_HRh98Ry",
        "outputId": "30751389-f92c-4cb6-8396-4f77509d9d94"
      },
      "execution_count": null,
      "outputs": [
        {
          "output_type": "stream",
          "name": "stdout",
          "text": [
            "SVC(random_state=1)\n",
            "Gaussian Radial Basis Function SVC Accuracy:  0.6021111111111112\n"
          ]
        }
      ]
    },
    {
      "cell_type": "markdown",
      "source": [
        "Multi-Layer Perceptron"
      ],
      "metadata": {
        "id": "8_yZTu-iInj9"
      }
    },
    {
      "cell_type": "code",
      "source": [
        "# Base model\n",
        "mlp = MLPClassifier(random_state=1)\n",
        "mlp.fit(X_train, y_train)\n",
        "print(mlp)\n",
        "y_pred_mlp = mlp.predict(X_test)\n",
        "acc_mlp = accuracy_score(y_test, y_pred_mlp)\n",
        "print ('mlp accuracy: ',acc_mlp)"
      ],
      "metadata": {
        "colab": {
          "base_uri": "https://localhost:8080/"
        },
        "id": "jfhtJNAk9___",
        "outputId": "b02aaf6d-9033-4444-f656-c616219d33ae"
      },
      "execution_count": 3,
      "outputs": [
        {
          "output_type": "stream",
          "name": "stdout",
          "text": [
            "MLPClassifier(random_state=1)\n",
            "mlp accuracy:  0.48044444444444445\n"
          ]
        }
      ]
    },
    {
      "cell_type": "code",
      "source": [
        "parameters = {'hidden_layer_sizes' : [(100,),(784,), (100,100),(100,100,100)] }\n",
        "\n",
        "mlp = MLPClassifier(random_state=1)\n",
        "mlp = GridSearchCV(mlp, parameters, n_jobs=-1)\n",
        "mlp.fit(X_train, y_train)\n",
        "\n",
        "results=pd.DataFrame(mlp.cv_results_)\n",
        "results.sort_values('mean_test_score', ascending = False)"
      ],
      "metadata": {
        "id": "tuelsGj--DWU",
        "colab": {
          "base_uri": "https://localhost:8080/",
          "height": 308
        },
        "outputId": "17b1b416-e0a4-4029-fbc9-da0989a8019f"
      },
      "execution_count": 4,
      "outputs": [
        {
          "output_type": "execute_result",
          "data": {
            "text/plain": [
              "   mean_fit_time  std_fit_time  mean_score_time  std_score_time  \\\n",
              "1     293.567959     54.294678         0.317046        0.013373   \n",
              "3      60.719426      4.900324         0.057476        0.009549   \n",
              "2      87.222477      7.497719         0.057551        0.002521   \n",
              "0     118.824872      5.485099         0.048973        0.002490   \n",
              "\n",
              "  param_hidden_layer_sizes                                   params  \\\n",
              "1                   (784,)           {'hidden_layer_sizes': (784,)}   \n",
              "3          (100, 100, 100)  {'hidden_layer_sizes': (100, 100, 100)}   \n",
              "2               (100, 100)       {'hidden_layer_sizes': (100, 100)}   \n",
              "0                   (100,)           {'hidden_layer_sizes': (100,)}   \n",
              "\n",
              "   split0_test_score  split1_test_score  split2_test_score  split3_test_score  \\\n",
              "1           0.555952           0.543571           0.539286           0.553810   \n",
              "3           0.517143           0.524048           0.520476           0.514762   \n",
              "2           0.506429           0.499286           0.501429           0.507857   \n",
              "0           0.494286           0.489762           0.501429           0.479524   \n",
              "\n",
              "   split4_test_score  mean_test_score  std_test_score  rank_test_score  \n",
              "1           0.566190         0.551762        0.009515                1  \n",
              "3           0.500238         0.515333        0.008171                2  \n",
              "2           0.502143         0.503429        0.003207                3  \n",
              "0           0.495714         0.492143        0.007328                4  "
            ],
            "text/html": [
              "\n",
              "  <div id=\"df-f205af60-0f92-477d-b953-300d5972dcc3\">\n",
              "    <div class=\"colab-df-container\">\n",
              "      <div>\n",
              "<style scoped>\n",
              "    .dataframe tbody tr th:only-of-type {\n",
              "        vertical-align: middle;\n",
              "    }\n",
              "\n",
              "    .dataframe tbody tr th {\n",
              "        vertical-align: top;\n",
              "    }\n",
              "\n",
              "    .dataframe thead th {\n",
              "        text-align: right;\n",
              "    }\n",
              "</style>\n",
              "<table border=\"1\" class=\"dataframe\">\n",
              "  <thead>\n",
              "    <tr style=\"text-align: right;\">\n",
              "      <th></th>\n",
              "      <th>mean_fit_time</th>\n",
              "      <th>std_fit_time</th>\n",
              "      <th>mean_score_time</th>\n",
              "      <th>std_score_time</th>\n",
              "      <th>param_hidden_layer_sizes</th>\n",
              "      <th>params</th>\n",
              "      <th>split0_test_score</th>\n",
              "      <th>split1_test_score</th>\n",
              "      <th>split2_test_score</th>\n",
              "      <th>split3_test_score</th>\n",
              "      <th>split4_test_score</th>\n",
              "      <th>mean_test_score</th>\n",
              "      <th>std_test_score</th>\n",
              "      <th>rank_test_score</th>\n",
              "    </tr>\n",
              "  </thead>\n",
              "  <tbody>\n",
              "    <tr>\n",
              "      <th>1</th>\n",
              "      <td>293.567959</td>\n",
              "      <td>54.294678</td>\n",
              "      <td>0.317046</td>\n",
              "      <td>0.013373</td>\n",
              "      <td>(784,)</td>\n",
              "      <td>{'hidden_layer_sizes': (784,)}</td>\n",
              "      <td>0.555952</td>\n",
              "      <td>0.543571</td>\n",
              "      <td>0.539286</td>\n",
              "      <td>0.553810</td>\n",
              "      <td>0.566190</td>\n",
              "      <td>0.551762</td>\n",
              "      <td>0.009515</td>\n",
              "      <td>1</td>\n",
              "    </tr>\n",
              "    <tr>\n",
              "      <th>3</th>\n",
              "      <td>60.719426</td>\n",
              "      <td>4.900324</td>\n",
              "      <td>0.057476</td>\n",
              "      <td>0.009549</td>\n",
              "      <td>(100, 100, 100)</td>\n",
              "      <td>{'hidden_layer_sizes': (100, 100, 100)}</td>\n",
              "      <td>0.517143</td>\n",
              "      <td>0.524048</td>\n",
              "      <td>0.520476</td>\n",
              "      <td>0.514762</td>\n",
              "      <td>0.500238</td>\n",
              "      <td>0.515333</td>\n",
              "      <td>0.008171</td>\n",
              "      <td>2</td>\n",
              "    </tr>\n",
              "    <tr>\n",
              "      <th>2</th>\n",
              "      <td>87.222477</td>\n",
              "      <td>7.497719</td>\n",
              "      <td>0.057551</td>\n",
              "      <td>0.002521</td>\n",
              "      <td>(100, 100)</td>\n",
              "      <td>{'hidden_layer_sizes': (100, 100)}</td>\n",
              "      <td>0.506429</td>\n",
              "      <td>0.499286</td>\n",
              "      <td>0.501429</td>\n",
              "      <td>0.507857</td>\n",
              "      <td>0.502143</td>\n",
              "      <td>0.503429</td>\n",
              "      <td>0.003207</td>\n",
              "      <td>3</td>\n",
              "    </tr>\n",
              "    <tr>\n",
              "      <th>0</th>\n",
              "      <td>118.824872</td>\n",
              "      <td>5.485099</td>\n",
              "      <td>0.048973</td>\n",
              "      <td>0.002490</td>\n",
              "      <td>(100,)</td>\n",
              "      <td>{'hidden_layer_sizes': (100,)}</td>\n",
              "      <td>0.494286</td>\n",
              "      <td>0.489762</td>\n",
              "      <td>0.501429</td>\n",
              "      <td>0.479524</td>\n",
              "      <td>0.495714</td>\n",
              "      <td>0.492143</td>\n",
              "      <td>0.007328</td>\n",
              "      <td>4</td>\n",
              "    </tr>\n",
              "  </tbody>\n",
              "</table>\n",
              "</div>\n",
              "      <button class=\"colab-df-convert\" onclick=\"convertToInteractive('df-f205af60-0f92-477d-b953-300d5972dcc3')\"\n",
              "              title=\"Convert this dataframe to an interactive table.\"\n",
              "              style=\"display:none;\">\n",
              "        \n",
              "  <svg xmlns=\"http://www.w3.org/2000/svg\" height=\"24px\"viewBox=\"0 0 24 24\"\n",
              "       width=\"24px\">\n",
              "    <path d=\"M0 0h24v24H0V0z\" fill=\"none\"/>\n",
              "    <path d=\"M18.56 5.44l.94 2.06.94-2.06 2.06-.94-2.06-.94-.94-2.06-.94 2.06-2.06.94zm-11 1L8.5 8.5l.94-2.06 2.06-.94-2.06-.94L8.5 2.5l-.94 2.06-2.06.94zm10 10l.94 2.06.94-2.06 2.06-.94-2.06-.94-.94-2.06-.94 2.06-2.06.94z\"/><path d=\"M17.41 7.96l-1.37-1.37c-.4-.4-.92-.59-1.43-.59-.52 0-1.04.2-1.43.59L10.3 9.45l-7.72 7.72c-.78.78-.78 2.05 0 2.83L4 21.41c.39.39.9.59 1.41.59.51 0 1.02-.2 1.41-.59l7.78-7.78 2.81-2.81c.8-.78.8-2.07 0-2.86zM5.41 20L4 18.59l7.72-7.72 1.47 1.35L5.41 20z\"/>\n",
              "  </svg>\n",
              "      </button>\n",
              "      \n",
              "  <style>\n",
              "    .colab-df-container {\n",
              "      display:flex;\n",
              "      flex-wrap:wrap;\n",
              "      gap: 12px;\n",
              "    }\n",
              "\n",
              "    .colab-df-convert {\n",
              "      background-color: #E8F0FE;\n",
              "      border: none;\n",
              "      border-radius: 50%;\n",
              "      cursor: pointer;\n",
              "      display: none;\n",
              "      fill: #1967D2;\n",
              "      height: 32px;\n",
              "      padding: 0 0 0 0;\n",
              "      width: 32px;\n",
              "    }\n",
              "\n",
              "    .colab-df-convert:hover {\n",
              "      background-color: #E2EBFA;\n",
              "      box-shadow: 0px 1px 2px rgba(60, 64, 67, 0.3), 0px 1px 3px 1px rgba(60, 64, 67, 0.15);\n",
              "      fill: #174EA6;\n",
              "    }\n",
              "\n",
              "    [theme=dark] .colab-df-convert {\n",
              "      background-color: #3B4455;\n",
              "      fill: #D2E3FC;\n",
              "    }\n",
              "\n",
              "    [theme=dark] .colab-df-convert:hover {\n",
              "      background-color: #434B5C;\n",
              "      box-shadow: 0px 1px 3px 1px rgba(0, 0, 0, 0.15);\n",
              "      filter: drop-shadow(0px 1px 2px rgba(0, 0, 0, 0.3));\n",
              "      fill: #FFFFFF;\n",
              "    }\n",
              "  </style>\n",
              "\n",
              "      <script>\n",
              "        const buttonEl =\n",
              "          document.querySelector('#df-f205af60-0f92-477d-b953-300d5972dcc3 button.colab-df-convert');\n",
              "        buttonEl.style.display =\n",
              "          google.colab.kernel.accessAllowed ? 'block' : 'none';\n",
              "\n",
              "        async function convertToInteractive(key) {\n",
              "          const element = document.querySelector('#df-f205af60-0f92-477d-b953-300d5972dcc3');\n",
              "          const dataTable =\n",
              "            await google.colab.kernel.invokeFunction('convertToInteractive',\n",
              "                                                     [key], {});\n",
              "          if (!dataTable) return;\n",
              "\n",
              "          const docLinkHtml = 'Like what you see? Visit the ' +\n",
              "            '<a target=\"_blank\" href=https://colab.research.google.com/notebooks/data_table.ipynb>data table notebook</a>'\n",
              "            + ' to learn more about interactive tables.';\n",
              "          element.innerHTML = '';\n",
              "          dataTable['output_type'] = 'display_data';\n",
              "          await google.colab.output.renderOutput(dataTable, element);\n",
              "          const docLink = document.createElement('div');\n",
              "          docLink.innerHTML = docLinkHtml;\n",
              "          element.appendChild(docLink);\n",
              "        }\n",
              "      </script>\n",
              "    </div>\n",
              "  </div>\n",
              "  "
            ]
          },
          "metadata": {},
          "execution_count": 4
        }
      ]
    },
    {
      "cell_type": "code",
      "source": [
        "mlp = MLPClassifier(hidden_layer_sizes=(784,),random_state=1)\n",
        "mlp.fit(X_train, y_train)\n",
        "print(mlp)\n",
        "y_pred_mlp = mlp.predict(X_test)\n",
        "acc_mlp = accuracy_score(y_test, y_pred_mlp)\n",
        "print ('mlp accuracy: ',acc_mlp)"
      ],
      "metadata": {
        "id": "fiaeQcHE-KOK",
        "colab": {
          "base_uri": "https://localhost:8080/"
        },
        "outputId": "89046c3f-b1b9-4117-a6c2-30bfadae63e8"
      },
      "execution_count": 5,
      "outputs": [
        {
          "output_type": "stream",
          "name": "stdout",
          "text": [
            "MLPClassifier(hidden_layer_sizes=(784,), random_state=1)\n",
            "mlp accuracy:  0.5696666666666667\n"
          ]
        }
      ]
    },
    {
      "cell_type": "markdown",
      "source": [
        "Convolutional Neural Networks (CNN / ConvNet)"
      ],
      "metadata": {
        "id": "M2H_qpHEIugx"
      }
    },
    {
      "cell_type": "code",
      "source": [
        "import keras\n",
        "from keras import backend as K\n",
        "from keras.utils import np_utils\n",
        "from keras.models import Sequential\n",
        "from keras.layers import Dense, Dropout, Flatten\n",
        "from keras.layers import Conv2D, MaxPooling2D\n",
        "from IPython.display import SVG\n",
        "from keras.utils.vis_utils import model_to_dot"
      ],
      "metadata": {
        "id": "hivGW8nY-NWs"
      },
      "execution_count": 6,
      "outputs": []
    },
    {
      "cell_type": "code",
      "source": [
        "# one hot encode outputs\n",
        "y_train_cnn = np_utils.to_categorical(y_train)\n",
        "y_test_cnn = np_utils.to_categorical(y_test)\n",
        "num_classes = y_test_cnn.shape[1]\n",
        "\n",
        "# reshape to be [samples][width][height][pixels] \n",
        "X_train_cnn = X_train.reshape(X_train.shape[0], 28, 28, 1).astype('float32')\n",
        "X_test_cnn = X_test.reshape(X_test.shape[0], 28, 28, 1).astype('float32')"
      ],
      "metadata": {
        "id": "86UW27oU-Q8D"
      },
      "execution_count": 7,
      "outputs": []
    },
    {
      "cell_type": "code",
      "source": [
        "model = Sequential()\n",
        "model.add(Conv2D(32, kernel_size=(5,5), activation='relu',input_shape=(28, 28, 1)))\n",
        "model.add(Conv2D(64, (3,3), activation='relu'))\n",
        "model.add(MaxPooling2D(pool_size=(2, 2)))\n",
        "model.add(Dropout(0.25))\n",
        "model.add(Flatten())\n",
        "model.add(Dense(128, activation='relu'))\n",
        "model.add(Dropout(0.5))\n",
        "model.add(Dense(num_classes, activation='softmax'))"
      ],
      "metadata": {
        "id": "y11rjEi9-TyE"
      },
      "execution_count": 8,
      "outputs": []
    },
    {
      "cell_type": "code",
      "source": [
        "SVG(model_to_dot(model, show_shapes=True, \n",
        "                 show_layer_names=True, rankdir='TB').create(prog='dot', format='svg'))"
      ],
      "metadata": {
        "id": "c9_t0hKM-YYU",
        "colab": {
          "base_uri": "https://localhost:8080/",
          "height": 1000
        },
        "outputId": "33cb825c-e54e-4c2b-a0be-4f9b9a66cab2"
      },
      "execution_count": 9,
      "outputs": [
        {
          "output_type": "execute_result",
          "data": {
            "text/plain": [
              "<IPython.core.display.SVG object>"
            ],
            "image/svg+xml": "<svg height=\"959pt\" viewBox=\"0.00 0.00 423.00 719.00\" width=\"564pt\" xmlns=\"http://www.w3.org/2000/svg\" xmlns:xlink=\"http://www.w3.org/1999/xlink\">\n<g class=\"graph\" id=\"graph0\" transform=\"scale(1.3333 1.3333) rotate(0) translate(4 715)\">\n<title>G</title>\n<polygon fill=\"#ffffff\" points=\"-4,4 -4,-715 419,-715 419,4 -4,4\" stroke=\"transparent\"/>\n<!-- 139716700203984 -->\n<g class=\"node\" id=\"node1\">\n<title>139716700203984</title>\n<polygon fill=\"none\" points=\"3.5,-664.5 3.5,-710.5 411.5,-710.5 411.5,-664.5 3.5,-664.5\" stroke=\"#000000\"/>\n<text fill=\"#000000\" font-family=\"Times,serif\" font-size=\"14.00\" text-anchor=\"middle\" x=\"52.5\" y=\"-695.3\">conv2d_input</text>\n<polyline fill=\"none\" points=\"3.5,-687.5 101.5,-687.5 \" stroke=\"#000000\"/>\n<text fill=\"#000000\" font-family=\"Times,serif\" font-size=\"14.00\" text-anchor=\"middle\" x=\"52.5\" y=\"-672.3\">InputLayer</text>\n<polyline fill=\"none\" points=\"101.5,-664.5 101.5,-710.5 \" stroke=\"#000000\"/>\n<text fill=\"#000000\" font-family=\"Times,serif\" font-size=\"14.00\" text-anchor=\"middle\" x=\"130.5\" y=\"-695.3\">input:</text>\n<polyline fill=\"none\" points=\"101.5,-687.5 159.5,-687.5 \" stroke=\"#000000\"/>\n<text fill=\"#000000\" font-family=\"Times,serif\" font-size=\"14.00\" text-anchor=\"middle\" x=\"130.5\" y=\"-672.3\">output:</text>\n<polyline fill=\"none\" points=\"159.5,-664.5 159.5,-710.5 \" stroke=\"#000000\"/>\n<text fill=\"#000000\" font-family=\"Times,serif\" font-size=\"14.00\" text-anchor=\"middle\" x=\"222.5\" y=\"-683.8\">[(None, 28, 28, 1)]</text>\n<polyline fill=\"none\" points=\"285.5,-664.5 285.5,-710.5 \" stroke=\"#000000\"/>\n<text fill=\"#000000\" font-family=\"Times,serif\" font-size=\"14.00\" text-anchor=\"middle\" x=\"348.5\" y=\"-683.8\">[(None, 28, 28, 1)]</text>\n</g>\n<!-- 139716700045584 -->\n<g class=\"node\" id=\"node2\">\n<title>139716700045584</title>\n<polygon fill=\"none\" points=\"24,-581.5 24,-627.5 391,-627.5 391,-581.5 24,-581.5\" stroke=\"#000000\"/>\n<text fill=\"#000000\" font-family=\"Times,serif\" font-size=\"14.00\" text-anchor=\"middle\" x=\"57.5\" y=\"-612.3\">conv2d</text>\n<polyline fill=\"none\" points=\"24,-604.5 91,-604.5 \" stroke=\"#000000\"/>\n<text fill=\"#000000\" font-family=\"Times,serif\" font-size=\"14.00\" text-anchor=\"middle\" x=\"57.5\" y=\"-589.3\">Conv2D</text>\n<polyline fill=\"none\" points=\"91,-581.5 91,-627.5 \" stroke=\"#000000\"/>\n<text fill=\"#000000\" font-family=\"Times,serif\" font-size=\"14.00\" text-anchor=\"middle\" x=\"120\" y=\"-612.3\">input:</text>\n<polyline fill=\"none\" points=\"91,-604.5 149,-604.5 \" stroke=\"#000000\"/>\n<text fill=\"#000000\" font-family=\"Times,serif\" font-size=\"14.00\" text-anchor=\"middle\" x=\"120\" y=\"-589.3\">output:</text>\n<polyline fill=\"none\" points=\"149,-581.5 149,-627.5 \" stroke=\"#000000\"/>\n<text fill=\"#000000\" font-family=\"Times,serif\" font-size=\"14.00\" text-anchor=\"middle\" x=\"207.5\" y=\"-600.8\">(None, 28, 28, 1)</text>\n<polyline fill=\"none\" points=\"266,-581.5 266,-627.5 \" stroke=\"#000000\"/>\n<text fill=\"#000000\" font-family=\"Times,serif\" font-size=\"14.00\" text-anchor=\"middle\" x=\"328.5\" y=\"-600.8\">(None, 24, 24, 32)</text>\n</g>\n<!-- 139716700203984&#45;&gt;139716700045584 -->\n<g class=\"edge\" id=\"edge1\">\n<title>139716700203984-&gt;139716700045584</title>\n<path d=\"M207.5,-664.3799C207.5,-656.1745 207.5,-646.7679 207.5,-637.8786\" fill=\"none\" stroke=\"#000000\"/>\n<polygon fill=\"#000000\" points=\"211.0001,-637.784 207.5,-627.784 204.0001,-637.784 211.0001,-637.784\" stroke=\"#000000\"/>\n</g>\n<!-- 139716830657040 -->\n<g class=\"node\" id=\"node3\">\n<title>139716830657040</title>\n<polygon fill=\"none\" points=\"16,-498.5 16,-544.5 399,-544.5 399,-498.5 16,-498.5\" stroke=\"#000000\"/>\n<text fill=\"#000000\" font-family=\"Times,serif\" font-size=\"14.00\" text-anchor=\"middle\" x=\"53.5\" y=\"-529.3\">conv2d_1</text>\n<polyline fill=\"none\" points=\"16,-521.5 91,-521.5 \" stroke=\"#000000\"/>\n<text fill=\"#000000\" font-family=\"Times,serif\" font-size=\"14.00\" text-anchor=\"middle\" x=\"53.5\" y=\"-506.3\">Conv2D</text>\n<polyline fill=\"none\" points=\"91,-498.5 91,-544.5 \" stroke=\"#000000\"/>\n<text fill=\"#000000\" font-family=\"Times,serif\" font-size=\"14.00\" text-anchor=\"middle\" x=\"120\" y=\"-529.3\">input:</text>\n<polyline fill=\"none\" points=\"91,-521.5 149,-521.5 \" stroke=\"#000000\"/>\n<text fill=\"#000000\" font-family=\"Times,serif\" font-size=\"14.00\" text-anchor=\"middle\" x=\"120\" y=\"-506.3\">output:</text>\n<polyline fill=\"none\" points=\"149,-498.5 149,-544.5 \" stroke=\"#000000\"/>\n<text fill=\"#000000\" font-family=\"Times,serif\" font-size=\"14.00\" text-anchor=\"middle\" x=\"211.5\" y=\"-517.8\">(None, 24, 24, 32)</text>\n<polyline fill=\"none\" points=\"274,-498.5 274,-544.5 \" stroke=\"#000000\"/>\n<text fill=\"#000000\" font-family=\"Times,serif\" font-size=\"14.00\" text-anchor=\"middle\" x=\"336.5\" y=\"-517.8\">(None, 22, 22, 64)</text>\n</g>\n<!-- 139716700045584&#45;&gt;139716830657040 -->\n<g class=\"edge\" id=\"edge2\">\n<title>139716700045584-&gt;139716830657040</title>\n<path d=\"M207.5,-581.3799C207.5,-573.1745 207.5,-563.7679 207.5,-554.8786\" fill=\"none\" stroke=\"#000000\"/>\n<polygon fill=\"#000000\" points=\"211.0001,-554.784 207.5,-544.784 204.0001,-554.784 211.0001,-554.784\" stroke=\"#000000\"/>\n</g>\n<!-- 139716364166288 -->\n<g class=\"node\" id=\"node4\">\n<title>139716364166288</title>\n<polygon fill=\"none\" points=\"0,-415.5 0,-461.5 415,-461.5 415,-415.5 0,-415.5\" stroke=\"#000000\"/>\n<text fill=\"#000000\" font-family=\"Times,serif\" font-size=\"14.00\" text-anchor=\"middle\" x=\"54.5\" y=\"-446.3\">max_pooling2d</text>\n<polyline fill=\"none\" points=\"0,-438.5 109,-438.5 \" stroke=\"#000000\"/>\n<text fill=\"#000000\" font-family=\"Times,serif\" font-size=\"14.00\" text-anchor=\"middle\" x=\"54.5\" y=\"-423.3\">MaxPooling2D</text>\n<polyline fill=\"none\" points=\"109,-415.5 109,-461.5 \" stroke=\"#000000\"/>\n<text fill=\"#000000\" font-family=\"Times,serif\" font-size=\"14.00\" text-anchor=\"middle\" x=\"138\" y=\"-446.3\">input:</text>\n<polyline fill=\"none\" points=\"109,-438.5 167,-438.5 \" stroke=\"#000000\"/>\n<text fill=\"#000000\" font-family=\"Times,serif\" font-size=\"14.00\" text-anchor=\"middle\" x=\"138\" y=\"-423.3\">output:</text>\n<polyline fill=\"none\" points=\"167,-415.5 167,-461.5 \" stroke=\"#000000\"/>\n<text fill=\"#000000\" font-family=\"Times,serif\" font-size=\"14.00\" text-anchor=\"middle\" x=\"229.5\" y=\"-434.8\">(None, 22, 22, 64)</text>\n<polyline fill=\"none\" points=\"292,-415.5 292,-461.5 \" stroke=\"#000000\"/>\n<text fill=\"#000000\" font-family=\"Times,serif\" font-size=\"14.00\" text-anchor=\"middle\" x=\"353.5\" y=\"-434.8\">(None, 11, 11, 64)</text>\n</g>\n<!-- 139716830657040&#45;&gt;139716364166288 -->\n<g class=\"edge\" id=\"edge3\">\n<title>139716830657040-&gt;139716364166288</title>\n<path d=\"M207.5,-498.3799C207.5,-490.1745 207.5,-480.7679 207.5,-471.8786\" fill=\"none\" stroke=\"#000000\"/>\n<polygon fill=\"#000000\" points=\"211.0001,-471.784 207.5,-461.784 204.0001,-471.784 211.0001,-471.784\" stroke=\"#000000\"/>\n</g>\n<!-- 139716364166352 -->\n<g class=\"node\" id=\"node5\">\n<title>139716364166352</title>\n<polygon fill=\"none\" points=\"23,-332.5 23,-378.5 392,-378.5 392,-332.5 23,-332.5\" stroke=\"#000000\"/>\n<text fill=\"#000000\" font-family=\"Times,serif\" font-size=\"14.00\" text-anchor=\"middle\" x=\"55.5\" y=\"-363.3\">dropout</text>\n<polyline fill=\"none\" points=\"23,-355.5 88,-355.5 \" stroke=\"#000000\"/>\n<text fill=\"#000000\" font-family=\"Times,serif\" font-size=\"14.00\" text-anchor=\"middle\" x=\"55.5\" y=\"-340.3\">Dropout</text>\n<polyline fill=\"none\" points=\"88,-332.5 88,-378.5 \" stroke=\"#000000\"/>\n<text fill=\"#000000\" font-family=\"Times,serif\" font-size=\"14.00\" text-anchor=\"middle\" x=\"117\" y=\"-363.3\">input:</text>\n<polyline fill=\"none\" points=\"88,-355.5 146,-355.5 \" stroke=\"#000000\"/>\n<text fill=\"#000000\" font-family=\"Times,serif\" font-size=\"14.00\" text-anchor=\"middle\" x=\"117\" y=\"-340.3\">output:</text>\n<polyline fill=\"none\" points=\"146,-332.5 146,-378.5 \" stroke=\"#000000\"/>\n<text fill=\"#000000\" font-family=\"Times,serif\" font-size=\"14.00\" text-anchor=\"middle\" x=\"207.5\" y=\"-351.8\">(None, 11, 11, 64)</text>\n<polyline fill=\"none\" points=\"269,-332.5 269,-378.5 \" stroke=\"#000000\"/>\n<text fill=\"#000000\" font-family=\"Times,serif\" font-size=\"14.00\" text-anchor=\"middle\" x=\"330.5\" y=\"-351.8\">(None, 11, 11, 64)</text>\n</g>\n<!-- 139716364166288&#45;&gt;139716364166352 -->\n<g class=\"edge\" id=\"edge4\">\n<title>139716364166288-&gt;139716364166352</title>\n<path d=\"M207.5,-415.3799C207.5,-407.1745 207.5,-397.7679 207.5,-388.8786\" fill=\"none\" stroke=\"#000000\"/>\n<polygon fill=\"#000000\" points=\"211.0001,-388.784 207.5,-378.784 204.0001,-388.784 211.0001,-388.784\" stroke=\"#000000\"/>\n</g>\n<!-- 139716364297424 -->\n<g class=\"node\" id=\"node6\">\n<title>139716364297424</title>\n<polygon fill=\"none\" points=\"41.5,-249.5 41.5,-295.5 373.5,-295.5 373.5,-249.5 41.5,-249.5\" stroke=\"#000000\"/>\n<text fill=\"#000000\" font-family=\"Times,serif\" font-size=\"14.00\" text-anchor=\"middle\" x=\"69.5\" y=\"-280.3\">flatten</text>\n<polyline fill=\"none\" points=\"41.5,-272.5 97.5,-272.5 \" stroke=\"#000000\"/>\n<text fill=\"#000000\" font-family=\"Times,serif\" font-size=\"14.00\" text-anchor=\"middle\" x=\"69.5\" y=\"-257.3\">Flatten</text>\n<polyline fill=\"none\" points=\"97.5,-249.5 97.5,-295.5 \" stroke=\"#000000\"/>\n<text fill=\"#000000\" font-family=\"Times,serif\" font-size=\"14.00\" text-anchor=\"middle\" x=\"126.5\" y=\"-280.3\">input:</text>\n<polyline fill=\"none\" points=\"97.5,-272.5 155.5,-272.5 \" stroke=\"#000000\"/>\n<text fill=\"#000000\" font-family=\"Times,serif\" font-size=\"14.00\" text-anchor=\"middle\" x=\"126.5\" y=\"-257.3\">output:</text>\n<polyline fill=\"none\" points=\"155.5,-249.5 155.5,-295.5 \" stroke=\"#000000\"/>\n<text fill=\"#000000\" font-family=\"Times,serif\" font-size=\"14.00\" text-anchor=\"middle\" x=\"217\" y=\"-268.8\">(None, 11, 11, 64)</text>\n<polyline fill=\"none\" points=\"278.5,-249.5 278.5,-295.5 \" stroke=\"#000000\"/>\n<text fill=\"#000000\" font-family=\"Times,serif\" font-size=\"14.00\" text-anchor=\"middle\" x=\"326\" y=\"-268.8\">(None, 7744)</text>\n</g>\n<!-- 139716364166352&#45;&gt;139716364297424 -->\n<g class=\"edge\" id=\"edge5\">\n<title>139716364166352-&gt;139716364297424</title>\n<path d=\"M207.5,-332.3799C207.5,-324.1745 207.5,-314.7679 207.5,-305.8786\" fill=\"none\" stroke=\"#000000\"/>\n<polygon fill=\"#000000\" points=\"211.0001,-305.784 207.5,-295.784 204.0001,-305.784 211.0001,-305.784\" stroke=\"#000000\"/>\n</g>\n<!-- 139716364305360 -->\n<g class=\"node\" id=\"node7\">\n<title>139716364305360</title>\n<polygon fill=\"none\" points=\"61.5,-166.5 61.5,-212.5 353.5,-212.5 353.5,-166.5 61.5,-166.5\" stroke=\"#000000\"/>\n<text fill=\"#000000\" font-family=\"Times,serif\" font-size=\"14.00\" text-anchor=\"middle\" x=\"87.5\" y=\"-197.3\">dense</text>\n<polyline fill=\"none\" points=\"61.5,-189.5 113.5,-189.5 \" stroke=\"#000000\"/>\n<text fill=\"#000000\" font-family=\"Times,serif\" font-size=\"14.00\" text-anchor=\"middle\" x=\"87.5\" y=\"-174.3\">Dense</text>\n<polyline fill=\"none\" points=\"113.5,-166.5 113.5,-212.5 \" stroke=\"#000000\"/>\n<text fill=\"#000000\" font-family=\"Times,serif\" font-size=\"14.00\" text-anchor=\"middle\" x=\"142.5\" y=\"-197.3\">input:</text>\n<polyline fill=\"none\" points=\"113.5,-189.5 171.5,-189.5 \" stroke=\"#000000\"/>\n<text fill=\"#000000\" font-family=\"Times,serif\" font-size=\"14.00\" text-anchor=\"middle\" x=\"142.5\" y=\"-174.3\">output:</text>\n<polyline fill=\"none\" points=\"171.5,-166.5 171.5,-212.5 \" stroke=\"#000000\"/>\n<text fill=\"#000000\" font-family=\"Times,serif\" font-size=\"14.00\" text-anchor=\"middle\" x=\"219\" y=\"-185.8\">(None, 7744)</text>\n<polyline fill=\"none\" points=\"266.5,-166.5 266.5,-212.5 \" stroke=\"#000000\"/>\n<text fill=\"#000000\" font-family=\"Times,serif\" font-size=\"14.00\" text-anchor=\"middle\" x=\"310\" y=\"-185.8\">(None, 128)</text>\n</g>\n<!-- 139716364297424&#45;&gt;139716364305360 -->\n<g class=\"edge\" id=\"edge6\">\n<title>139716364297424-&gt;139716364305360</title>\n<path d=\"M207.5,-249.3799C207.5,-241.1745 207.5,-231.7679 207.5,-222.8786\" fill=\"none\" stroke=\"#000000\"/>\n<polygon fill=\"#000000\" points=\"211.0001,-222.784 207.5,-212.784 204.0001,-222.784 211.0001,-222.784\" stroke=\"#000000\"/>\n</g>\n<!-- 139716364492240 -->\n<g class=\"node\" id=\"node8\">\n<title>139716364492240</title>\n<polygon fill=\"none\" points=\"53,-83.5 53,-129.5 362,-129.5 362,-83.5 53,-83.5\" stroke=\"#000000\"/>\n<text fill=\"#000000\" font-family=\"Times,serif\" font-size=\"14.00\" text-anchor=\"middle\" x=\"91.5\" y=\"-114.3\">dropout_1</text>\n<polyline fill=\"none\" points=\"53,-106.5 130,-106.5 \" stroke=\"#000000\"/>\n<text fill=\"#000000\" font-family=\"Times,serif\" font-size=\"14.00\" text-anchor=\"middle\" x=\"91.5\" y=\"-91.3\">Dropout</text>\n<polyline fill=\"none\" points=\"130,-83.5 130,-129.5 \" stroke=\"#000000\"/>\n<text fill=\"#000000\" font-family=\"Times,serif\" font-size=\"14.00\" text-anchor=\"middle\" x=\"159\" y=\"-114.3\">input:</text>\n<polyline fill=\"none\" points=\"130,-106.5 188,-106.5 \" stroke=\"#000000\"/>\n<text fill=\"#000000\" font-family=\"Times,serif\" font-size=\"14.00\" text-anchor=\"middle\" x=\"159\" y=\"-91.3\">output:</text>\n<polyline fill=\"none\" points=\"188,-83.5 188,-129.5 \" stroke=\"#000000\"/>\n<text fill=\"#000000\" font-family=\"Times,serif\" font-size=\"14.00\" text-anchor=\"middle\" x=\"231.5\" y=\"-102.8\">(None, 128)</text>\n<polyline fill=\"none\" points=\"275,-83.5 275,-129.5 \" stroke=\"#000000\"/>\n<text fill=\"#000000\" font-family=\"Times,serif\" font-size=\"14.00\" text-anchor=\"middle\" x=\"318.5\" y=\"-102.8\">(None, 128)</text>\n</g>\n<!-- 139716364305360&#45;&gt;139716364492240 -->\n<g class=\"edge\" id=\"edge7\">\n<title>139716364305360-&gt;139716364492240</title>\n<path d=\"M207.5,-166.3799C207.5,-158.1745 207.5,-148.7679 207.5,-139.8786\" fill=\"none\" stroke=\"#000000\"/>\n<polygon fill=\"#000000\" points=\"211.0001,-139.784 207.5,-129.784 204.0001,-139.784 211.0001,-139.784\" stroke=\"#000000\"/>\n</g>\n<!-- 139716364324560 -->\n<g class=\"node\" id=\"node9\">\n<title>139716364324560</title>\n<polygon fill=\"none\" points=\"63,-.5 63,-46.5 352,-46.5 352,-.5 63,-.5\" stroke=\"#000000\"/>\n<text fill=\"#000000\" font-family=\"Times,serif\" font-size=\"14.00\" text-anchor=\"middle\" x=\"95\" y=\"-31.3\">dense_1</text>\n<polyline fill=\"none\" points=\"63,-23.5 127,-23.5 \" stroke=\"#000000\"/>\n<text fill=\"#000000\" font-family=\"Times,serif\" font-size=\"14.00\" text-anchor=\"middle\" x=\"95\" y=\"-8.3\">Dense</text>\n<polyline fill=\"none\" points=\"127,-.5 127,-46.5 \" stroke=\"#000000\"/>\n<text fill=\"#000000\" font-family=\"Times,serif\" font-size=\"14.00\" text-anchor=\"middle\" x=\"156\" y=\"-31.3\">input:</text>\n<polyline fill=\"none\" points=\"127,-23.5 185,-23.5 \" stroke=\"#000000\"/>\n<text fill=\"#000000\" font-family=\"Times,serif\" font-size=\"14.00\" text-anchor=\"middle\" x=\"156\" y=\"-8.3\">output:</text>\n<polyline fill=\"none\" points=\"185,-.5 185,-46.5 \" stroke=\"#000000\"/>\n<text fill=\"#000000\" font-family=\"Times,serif\" font-size=\"14.00\" text-anchor=\"middle\" x=\"228.5\" y=\"-19.8\">(None, 128)</text>\n<polyline fill=\"none\" points=\"272,-.5 272,-46.5 \" stroke=\"#000000\"/>\n<text fill=\"#000000\" font-family=\"Times,serif\" font-size=\"14.00\" text-anchor=\"middle\" x=\"312\" y=\"-19.8\">(None, 10)</text>\n</g>\n<!-- 139716364492240&#45;&gt;139716364324560 -->\n<g class=\"edge\" id=\"edge8\">\n<title>139716364492240-&gt;139716364324560</title>\n<path d=\"M207.5,-83.3799C207.5,-75.1745 207.5,-65.7679 207.5,-56.8786\" fill=\"none\" stroke=\"#000000\"/>\n<polygon fill=\"#000000\" points=\"211.0001,-56.784 207.5,-46.784 204.0001,-56.784 211.0001,-56.784\" stroke=\"#000000\"/>\n</g>\n</g>\n</svg>"
          },
          "metadata": {},
          "execution_count": 9
        }
      ]
    },
    {
      "cell_type": "code",
      "source": [
        "model.compile(loss=keras.losses.categorical_crossentropy,\n",
        "              optimizer='adam',\n",
        "              metrics=['accuracy'])"
      ],
      "metadata": {
        "id": "olwcB2RV-bNY"
      },
      "execution_count": 10,
      "outputs": []
    },
    {
      "cell_type": "code",
      "source": [
        "cnn_model = model.fit(X_train_cnn, y_train_cnn,\n",
        "          batch_size=32,\n",
        "          epochs=20,\n",
        "          validation_data=(X_test_cnn, y_test_cnn))"
      ],
      "metadata": {
        "id": "6kp46hYt-iGh",
        "colab": {
          "base_uri": "https://localhost:8080/"
        },
        "outputId": "41c4b41b-68d0-4aa4-9ad9-e1c843bb11e0"
      },
      "execution_count": 11,
      "outputs": [
        {
          "output_type": "stream",
          "name": "stdout",
          "text": [
            "Epoch 1/20\n",
            "657/657 [==============================] - 15s 5ms/step - loss: 1.4879 - accuracy: 0.4943 - val_loss: 1.0987 - val_accuracy: 0.6253\n",
            "Epoch 2/20\n",
            "657/657 [==============================] - 3s 5ms/step - loss: 1.1662 - accuracy: 0.6116 - val_loss: 0.9923 - val_accuracy: 0.6608\n",
            "Epoch 3/20\n",
            "657/657 [==============================] - 3s 5ms/step - loss: 1.0572 - accuracy: 0.6413 - val_loss: 0.9806 - val_accuracy: 0.6680\n",
            "Epoch 4/20\n",
            "657/657 [==============================] - 3s 5ms/step - loss: 0.9640 - accuracy: 0.6773 - val_loss: 0.9644 - val_accuracy: 0.6783\n",
            "Epoch 5/20\n",
            "657/657 [==============================] - 4s 6ms/step - loss: 0.8974 - accuracy: 0.6945 - val_loss: 0.9161 - val_accuracy: 0.6890\n",
            "Epoch 6/20\n",
            "657/657 [==============================] - 3s 5ms/step - loss: 0.8278 - accuracy: 0.7123 - val_loss: 0.9087 - val_accuracy: 0.6966\n",
            "Epoch 7/20\n",
            "657/657 [==============================] - 3s 5ms/step - loss: 0.7540 - accuracy: 0.7371 - val_loss: 0.9288 - val_accuracy: 0.6988\n",
            "Epoch 8/20\n",
            "657/657 [==============================] - 3s 5ms/step - loss: 0.7141 - accuracy: 0.7470 - val_loss: 0.9305 - val_accuracy: 0.6939\n",
            "Epoch 9/20\n",
            "657/657 [==============================] - 3s 5ms/step - loss: 0.6656 - accuracy: 0.7637 - val_loss: 0.9439 - val_accuracy: 0.6976\n",
            "Epoch 10/20\n",
            "657/657 [==============================] - 3s 5ms/step - loss: 0.6224 - accuracy: 0.7779 - val_loss: 0.9581 - val_accuracy: 0.6981\n",
            "Epoch 11/20\n",
            "657/657 [==============================] - 3s 5ms/step - loss: 0.5795 - accuracy: 0.7920 - val_loss: 0.9785 - val_accuracy: 0.6976\n",
            "Epoch 12/20\n",
            "657/657 [==============================] - 3s 5ms/step - loss: 0.5420 - accuracy: 0.8026 - val_loss: 0.9773 - val_accuracy: 0.6921\n",
            "Epoch 13/20\n",
            "657/657 [==============================] - 3s 5ms/step - loss: 0.5199 - accuracy: 0.8121 - val_loss: 1.0185 - val_accuracy: 0.7004\n",
            "Epoch 14/20\n",
            "657/657 [==============================] - 3s 5ms/step - loss: 0.4796 - accuracy: 0.8219 - val_loss: 1.0525 - val_accuracy: 0.6927\n",
            "Epoch 15/20\n",
            "657/657 [==============================] - 3s 5ms/step - loss: 0.4642 - accuracy: 0.8294 - val_loss: 1.0654 - val_accuracy: 0.6933\n",
            "Epoch 16/20\n",
            "657/657 [==============================] - 3s 5ms/step - loss: 0.4528 - accuracy: 0.8336 - val_loss: 1.0828 - val_accuracy: 0.6953\n",
            "Epoch 17/20\n",
            "657/657 [==============================] - 3s 5ms/step - loss: 0.4375 - accuracy: 0.8393 - val_loss: 1.0860 - val_accuracy: 0.6931\n",
            "Epoch 18/20\n",
            "657/657 [==============================] - 3s 5ms/step - loss: 0.4035 - accuracy: 0.8549 - val_loss: 1.1515 - val_accuracy: 0.6929\n",
            "Epoch 19/20\n",
            "657/657 [==============================] - 3s 5ms/step - loss: 0.3991 - accuracy: 0.8526 - val_loss: 1.1398 - val_accuracy: 0.6929\n",
            "Epoch 20/20\n",
            "657/657 [==============================] - 3s 5ms/step - loss: 0.3832 - accuracy: 0.8576 - val_loss: 1.1801 - val_accuracy: 0.6961\n"
          ]
        }
      ]
    },
    {
      "cell_type": "code",
      "source": [
        "fig = plt.figure(figsize=(10,10))\n",
        "ax1 = plt.subplot(2,1,1)\n",
        "ax1 = plt.plot(cnn_model.history['accuracy'])\n",
        "ax1 = plt.plot(cnn_model.history['val_accuracy'])\n",
        "plt.title('Model Accuracy')\n",
        "plt.ylabel('Accuracy')\n",
        "plt.xlabel('Epoch')\n",
        "plt.legend(['Train', 'Validation'], loc='upper left')\n",
        "\n",
        "ax2 = plt.subplot(2,1,2)\n",
        "ax2 = plt.plot(cnn_model.history['loss'])\n",
        "ax2 = plt.plot(cnn_model.history['val_loss'])\n",
        "plt.title('Model Loss')\n",
        "plt.ylabel('Loss')\n",
        "plt.xlabel('Epoch')\n",
        "plt.legend(['Train', 'Validation'], loc='upper left')\n",
        "plt.show()"
      ],
      "metadata": {
        "id": "wMAwuMRo-kaO",
        "colab": {
          "base_uri": "https://localhost:8080/",
          "height": 621
        },
        "outputId": "8663e884-cc02-4c2d-8dc5-668dfe52093e"
      },
      "execution_count": 17,
      "outputs": [
        {
          "output_type": "display_data",
          "data": {
            "text/plain": [
              "<Figure size 720x720 with 2 Axes>"
            ],
            "image/png": "[encoded data removed]"
          },
          "metadata": {
            "needs_background": "light"
          }
        }
      ]
    },
    {
      "cell_type": "code",
      "source": [
        "cnn_score = model.evaluate(X_test_cnn, y_test_cnn, verbose=1)"
      ],
      "metadata": {
        "id": "MjdozStK-nIl",
        "colab": {
          "base_uri": "https://localhost:8080/"
        },
        "outputId": "59786549-7803-4a32-d880-1f25ac9a0a03"
      },
      "execution_count": 18,
      "outputs": [
        {
          "output_type": "stream",
          "name": "stdout",
          "text": [
            "282/282 [==============================] - 1s 4ms/step - loss: 1.1801 - accuracy: 0.6961\n"
          ]
        }
      ]
    },
    {
      "cell_type": "code",
      "source": [
        "print('Test Loss:', cnn_score[0])\n",
        "print('Test Accuracy:', cnn_score[1])"
      ],
      "metadata": {
        "id": "mTbe2trs-rZE",
        "colab": {
          "base_uri": "https://localhost:8080/"
        },
        "outputId": "5976ed2d-0d65-41ce-f5b2-7602bf6cdbfd"
      },
      "execution_count": 19,
      "outputs": [
        {
          "output_type": "stream",
          "name": "stdout",
          "text": [
            "Test Loss: 1.180083990097046\n",
            "Test Accuracy: 0.6961110830307007\n"
          ]
        }
      ]
    },
    {
      "cell_type": "code",
      "source": [
        "# y_pred_cnn = model.predict_classes(X_test_cnn, verbose=0)\n",
        "predict_x=model.predict(X_test_cnn) \n",
        "y_pred_cnn=np.argmax(predict_x,axis=1)"
      ],
      "metadata": {
        "id": "sfZyImkY-sk1"
      },
      "execution_count": 22,
      "outputs": []
    },
    {
      "cell_type": "code",
      "source": [
        "import itertools\n",
        "\n",
        "# Create a dict with label codes\n",
        "label_dict = {0:'cow', 1:'panda', 2:'lion', 3:'tiger', 4:'raccoon', 5:'monkey', 6:'hedgehog', 7:'zebra', 8:'horse', 9:'owl'}\n",
        "\n",
        "# Compute confusion matrix\n",
        "cf_matrix = confusion_matrix(y_test, y_pred_cnn)\n",
        "np.set_printoptions(precision=2)\n",
        "\n",
        "# Plot non-normalized confusion matrix\n",
        "fig = plt.figure(figsize=(10,7))\n",
        "fig = plt.imshow(cf_matrix, interpolation='nearest', cmap=plt.cm.Blues)\n",
        "_ =plt.title('Confusion Matrix - CNN')\n",
        "_ = plt.colorbar()\n",
        "_ = tick_marks = np.arange(len(label_dict))\n",
        "_ = plt.xticks(tick_marks, label_dict.values(), rotation=90)\n",
        "_ = plt.yticks(tick_marks, label_dict.values())\n",
        "_ = plt.tight_layout()\n",
        "_ = plt.ylabel('True label')\n",
        "_ = plt.xlabel('Predicted label')\n",
        "thresh = cf_matrix.max() / 2.\n",
        "for i, j in itertools.product(range(cf_matrix.shape[0]), range(cf_matrix.shape[1])):\n",
        "    plt.text(j, i, cf_matrix[i, j], horizontalalignment=\"center\",\n",
        "                color=\"white\" if cf_matrix[i, j] > thresh else \"black\")"
      ],
      "metadata": {
        "id": "WnCgjl3t-wM4",
        "colab": {
          "base_uri": "https://localhost:8080/",
          "height": 527
        },
        "outputId": "5f816a30-3139-4394-cba7-5247b7328ef1"
      },
      "execution_count": 32,
      "outputs": [
        {
          "output_type": "display_data",
          "data": {
            "text/plain": [
              "<Figure size 720x504 with 2 Axes>"
            ],
            "image/png": "[encoded data removed]"
          },
          "metadata": {
            "needs_background": "light"
          }
        }
      ]
    },
    {
      "cell_type": "markdown",
      "source": [
        "Using the Model for Predicting"
      ],
      "metadata": {
        "id": "x2t_fHlpI0I8"
      }
    },
    {
      "cell_type": "code",
      "source": [
        "test_image = np.expand_dims(X_test_cnn[0], axis=3)\n",
        "test_image = test_image.reshape(1,28, 28,1)"
      ],
      "metadata": {
        "id": "MVI5UMcn-1cy"
      },
      "execution_count": 46,
      "outputs": []
    },
    {
      "cell_type": "code",
      "source": [
        "plt.imshow(X_test_cnn[0][:,:,0], cmap=plt.get_cmap('binary'))"
      ],
      "metadata": {
        "id": "y74xDCWt-4gZ",
        "colab": {
          "base_uri": "https://localhost:8080/",
          "height": 283
        },
        "outputId": "bf146c27-f2da-4639-b055-bf10cdf61f90"
      },
      "execution_count": 47,
      "outputs": [
        {
          "output_type": "execute_result",
          "data": {
            "text/plain": [
              "<matplotlib.image.AxesImage at 0x7f11d62bfd10>"
            ]
          },
          "metadata": {},
          "execution_count": 47
        },
        {
          "output_type": "display_data",
          "data": {
            "text/plain": [
              "<Figure size 432x288 with 1 Axes>"
            ],
            "image/png": "[encoded data removed]"
          },
          "metadata": {
            "needs_background": "light"
          }
        }
      ]
    },
    {
      "cell_type": "code",
      "source": [
        "print(label_dict,# Dictionary to match label with code\n",
        "      '\\n','\\n',\n",
        "      y_test_cnn[0],# True/False (1/0) of label. Code = position of True\n",
        "      '\\n','\\n',\n",
        "      np.where(y_test_cnn[0] == 1)) # The code "
      ],
      "metadata": {
        "id": "LSuVHi4a-86O",
        "colab": {
          "base_uri": "https://localhost:8080/"
        },
        "outputId": "485aff5d-eeb2-4a39-af3f-65d4154d4441"
      },
      "execution_count": 48,
      "outputs": [
        {
          "output_type": "stream",
          "name": "stdout",
          "text": [
            "{0: 'cow', 1: 'panda', 2: 'lion', 3: 'tiger', 4: 'raccoon', 5: 'monkey', 6: 'hedgehog', 7: 'zebra', 8: 'horse', 9: 'owl'} \n",
            " \n",
            " [0. 0. 0. 1. 0. 0. 0. 0. 0. 0.] \n",
            " \n",
            " (array([3]),)\n"
          ]
        }
      ]
    },
    {
      "cell_type": "code",
      "source": [
        "# model.predict_classes(test_image,batch_size=1)\n",
        "# (model.predict(test_image,batch_size=1) > 0.5).astype(\"int32\")\n",
        "predict=model.predict(test_image,batch_size=1) \n",
        "np.argmax(predict,axis=1)"
      ],
      "metadata": {
        "id": "1AU9hJ5_-9r_",
        "colab": {
          "base_uri": "https://localhost:8080/"
        },
        "outputId": "16afa063-9d4d-4455-8c04-7eb39ec85f29"
      },
      "execution_count": 49,
      "outputs": [
        {
          "output_type": "execute_result",
          "data": {
            "text/plain": [
              "array([3])"
            ]
          },
          "metadata": {},
          "execution_count": 49
        }
      ]
    },
    {
      "cell_type": "markdown",
      "source": [
        "Patterns Uncovered in Hidden Layers - Sword"
      ],
      "metadata": {
        "id": "7IVSb7pOI54s"
      }
    },
    {
      "cell_type": "code",
      "source": [
        "def get_activations(model, model_inputs, print_shape_only=True, layer_name=None):\n",
        "    import keras.backend as K\n",
        "    print('----- activations -----')\n",
        "    activations = []\n",
        "    inp = model.input\n",
        "\n",
        "    model_multi_inputs_cond = True\n",
        "    if not isinstance(inp, list):\n",
        "        # only one input! let's wrap it in a list.\n",
        "        inp = [inp]\n",
        "        model_multi_inputs_cond = False\n",
        "\n",
        "    outputs = [layer.output for layer in model.layers if\n",
        "               layer.name == layer_name or layer_name is None]  # all layer outputs\n",
        "\n",
        "    funcs = [K.function(inp + [K.learning_phase()], [out]) for out in outputs]  # evaluation functions\n",
        "\n",
        "    if model_multi_inputs_cond:\n",
        "        list_inputs = []\n",
        "        list_inputs.extend(model_inputs)\n",
        "        list_inputs.append(1.)\n",
        "    else:\n",
        "        list_inputs = [model_inputs, 1.]\n",
        "\n",
        "    # Learning phase. 1 = Test mode (no dropout or batch normalization)\n",
        "    # layer_outputs = [func([model_inputs, 1.])[0] for func in funcs]\n",
        "    layer_outputs = [func(list_inputs)[0] for func in funcs]\n",
        "    for layer_activations in layer_outputs:\n",
        "        activations.append(layer_activations)\n",
        "        if print_shape_only:\n",
        "            print(layer_activations.shape)\n",
        "        else:\n",
        "            print(layer_activations)\n",
        "    return activations"
      ],
      "metadata": {
        "id": "7T2fTfzK_IAP"
      },
      "execution_count": 50,
      "outputs": []
    },
    {
      "cell_type": "code",
      "source": [
        "def display_activations(activation_maps):\n",
        "    batch_size = activation_maps[0].shape[0]\n",
        "    assert batch_size == 1, 'One image at a time to visualize.'\n",
        "    for i, activation_map in enumerate(activation_maps):\n",
        "        print('Displaying activation map {}'.format(i))\n",
        "        shape = activation_map.shape\n",
        "        if len(shape) == 4:\n",
        "            activations = np.hstack(np.transpose(activation_map[0], (2, 0, 1)))\n",
        "        elif len(shape) == 2:\n",
        "            # try to make it square as much as possible. we can skip some activations.\n",
        "            activations = activation_map[0]\n",
        "            num_activations = len(activations)\n",
        "            if num_activations > 1024:  # too hard to display it on the screen.\n",
        "                square_param = int(np.floor(np.sqrt(num_activations)))\n",
        "                activations = activations[0: square_param * square_param]\n",
        "                activations = np.reshape(activations, (square_param, square_param))\n",
        "            else:\n",
        "                activations = np.expand_dims(activations, axis=0)\n",
        "        else:\n",
        "            raise Exception('len(shape) = 3 has not been implemented.')\n",
        "        plt.figure(figsize=(25,10))\n",
        "        plt.imshow(activations, interpolation='None', cmap='binary')\n",
        "        plt.show()"
      ],
      "metadata": {
        "id": "8VrxjDvI_Nqh"
      },
      "execution_count": 51,
      "outputs": []
    },
    {
      "cell_type": "code",
      "source": [
        "activations = get_activations(model, test_image)"
      ],
      "metadata": {
        "id": "B17z_mFy_OtH",
        "colab": {
          "base_uri": "https://localhost:8080/",
          "height": 1000
        },
        "outputId": "19d45fb7-b122-401d-a599-e9a478d1700a"
      },
      "execution_count": 52,
      "outputs": [
        {
          "output_type": "stream",
          "name": "stdout",
          "text": [
            "----- activations -----\n"
          ]
        },
        {
          "output_type": "error",
          "ename": "ValueError",
          "evalue": "ignored",
          "traceback": [
            "\u001b[0;31m---------------------------------------------------------------------------\u001b[0m",
            "\u001b[0;31mValueError\u001b[0m                                Traceback (most recent call last)",
            "\u001b[0;32m<ipython-input-52-c7a9f485d79d>\u001b[0m in \u001b[0;36m<module>\u001b[0;34m()\u001b[0m\n\u001b[0;32m----> 1\u001b[0;31m \u001b[0mactivations\u001b[0m \u001b[0;34m=\u001b[0m \u001b[0mget_activations\u001b[0m\u001b[0;34m(\u001b[0m\u001b[0mmodel\u001b[0m\u001b[0;34m,\u001b[0m \u001b[0mtest_image\u001b[0m\u001b[0;34m)\u001b[0m\u001b[0;34m\u001b[0m\u001b[0;34m\u001b[0m\u001b[0m\n\u001b[0m",
            "\u001b[0;32m<ipython-input-50-157aa83c347e>\u001b[0m in \u001b[0;36mget_activations\u001b[0;34m(model, model_inputs, print_shape_only, layer_name)\u001b[0m\n\u001b[1;32m     14\u001b[0m                layer.name == layer_name or layer_name is None]  # all layer outputs\n\u001b[1;32m     15\u001b[0m \u001b[0;34m\u001b[0m\u001b[0m\n\u001b[0;32m---> 16\u001b[0;31m     \u001b[0mfuncs\u001b[0m \u001b[0;34m=\u001b[0m \u001b[0;34m[\u001b[0m\u001b[0mK\u001b[0m\u001b[0;34m.\u001b[0m\u001b[0mfunction\u001b[0m\u001b[0;34m(\u001b[0m\u001b[0minp\u001b[0m \u001b[0;34m+\u001b[0m \u001b[0;34m[\u001b[0m\u001b[0mK\u001b[0m\u001b[0;34m.\u001b[0m\u001b[0mlearning_phase\u001b[0m\u001b[0;34m(\u001b[0m\u001b[0;34m)\u001b[0m\u001b[0;34m]\u001b[0m\u001b[0;34m,\u001b[0m \u001b[0;34m[\u001b[0m\u001b[0mout\u001b[0m\u001b[0;34m]\u001b[0m\u001b[0;34m)\u001b[0m \u001b[0;32mfor\u001b[0m \u001b[0mout\u001b[0m \u001b[0;32min\u001b[0m \u001b[0moutputs\u001b[0m\u001b[0;34m]\u001b[0m  \u001b[0;31m# evaluation functions\u001b[0m\u001b[0;34m\u001b[0m\u001b[0;34m\u001b[0m\u001b[0m\n\u001b[0m\u001b[1;32m     17\u001b[0m \u001b[0;34m\u001b[0m\u001b[0m\n\u001b[1;32m     18\u001b[0m     \u001b[0;32mif\u001b[0m \u001b[0mmodel_multi_inputs_cond\u001b[0m\u001b[0;34m:\u001b[0m\u001b[0;34m\u001b[0m\u001b[0;34m\u001b[0m\u001b[0m\n",
            "\u001b[0;32m<ipython-input-50-157aa83c347e>\u001b[0m in \u001b[0;36m<listcomp>\u001b[0;34m(.0)\u001b[0m\n\u001b[1;32m     14\u001b[0m                layer.name == layer_name or layer_name is None]  # all layer outputs\n\u001b[1;32m     15\u001b[0m \u001b[0;34m\u001b[0m\u001b[0m\n\u001b[0;32m---> 16\u001b[0;31m     \u001b[0mfuncs\u001b[0m \u001b[0;34m=\u001b[0m \u001b[0;34m[\u001b[0m\u001b[0mK\u001b[0m\u001b[0;34m.\u001b[0m\u001b[0mfunction\u001b[0m\u001b[0;34m(\u001b[0m\u001b[0minp\u001b[0m \u001b[0;34m+\u001b[0m \u001b[0;34m[\u001b[0m\u001b[0mK\u001b[0m\u001b[0;34m.\u001b[0m\u001b[0mlearning_phase\u001b[0m\u001b[0;34m(\u001b[0m\u001b[0;34m)\u001b[0m\u001b[0;34m]\u001b[0m\u001b[0;34m,\u001b[0m \u001b[0;34m[\u001b[0m\u001b[0mout\u001b[0m\u001b[0;34m]\u001b[0m\u001b[0;34m)\u001b[0m \u001b[0;32mfor\u001b[0m \u001b[0mout\u001b[0m \u001b[0;32min\u001b[0m \u001b[0moutputs\u001b[0m\u001b[0;34m]\u001b[0m  \u001b[0;31m# evaluation functions\u001b[0m\u001b[0;34m\u001b[0m\u001b[0;34m\u001b[0m\u001b[0m\n\u001b[0m\u001b[1;32m     17\u001b[0m \u001b[0;34m\u001b[0m\u001b[0m\n\u001b[1;32m     18\u001b[0m     \u001b[0;32mif\u001b[0m \u001b[0mmodel_multi_inputs_cond\u001b[0m\u001b[0;34m:\u001b[0m\u001b[0;34m\u001b[0m\u001b[0;34m\u001b[0m\u001b[0m\n",
            "\u001b[0;32m/usr/local/lib/python3.7/dist-packages/keras/backend.py\u001b[0m in \u001b[0;36mfunction\u001b[0;34m(inputs, outputs, updates, name, **kwargs)\u001b[0m\n\u001b[1;32m   4316\u001b[0m     \u001b[0;32mfrom\u001b[0m \u001b[0mkeras\u001b[0m \u001b[0;32mimport\u001b[0m \u001b[0mmodels\u001b[0m  \u001b[0;31m# pylint: disable=g-import-not-at-top\u001b[0m\u001b[0;34m\u001b[0m\u001b[0;34m\u001b[0m\u001b[0m\n\u001b[1;32m   4317\u001b[0m     \u001b[0;32mfrom\u001b[0m \u001b[0mkeras\u001b[0m\u001b[0;34m.\u001b[0m\u001b[0mutils\u001b[0m \u001b[0;32mimport\u001b[0m \u001b[0mtf_utils\u001b[0m  \u001b[0;31m# pylint: disable=g-import-not-at-top\u001b[0m\u001b[0;34m\u001b[0m\u001b[0;34m\u001b[0m\u001b[0m\n\u001b[0;32m-> 4318\u001b[0;31m     \u001b[0mmodel\u001b[0m \u001b[0;34m=\u001b[0m \u001b[0mmodels\u001b[0m\u001b[0;34m.\u001b[0m\u001b[0mModel\u001b[0m\u001b[0;34m(\u001b[0m\u001b[0minputs\u001b[0m\u001b[0;34m=\u001b[0m\u001b[0minputs\u001b[0m\u001b[0;34m,\u001b[0m \u001b[0moutputs\u001b[0m\u001b[0;34m=\u001b[0m\u001b[0moutputs\u001b[0m\u001b[0;34m)\u001b[0m\u001b[0;34m\u001b[0m\u001b[0;34m\u001b[0m\u001b[0m\n\u001b[0m\u001b[1;32m   4319\u001b[0m \u001b[0;34m\u001b[0m\u001b[0m\n\u001b[1;32m   4320\u001b[0m     \u001b[0mwrap_outputs\u001b[0m \u001b[0;34m=\u001b[0m \u001b[0misinstance\u001b[0m\u001b[0;34m(\u001b[0m\u001b[0moutputs\u001b[0m\u001b[0;34m,\u001b[0m \u001b[0mlist\u001b[0m\u001b[0;34m)\u001b[0m \u001b[0;32mand\u001b[0m \u001b[0mlen\u001b[0m\u001b[0;34m(\u001b[0m\u001b[0moutputs\u001b[0m\u001b[0;34m)\u001b[0m \u001b[0;34m==\u001b[0m \u001b[0;36m1\u001b[0m\u001b[0;34m\u001b[0m\u001b[0;34m\u001b[0m\u001b[0m\n",
            "\u001b[0;32m/usr/local/lib/python3.7/dist-packages/tensorflow/python/training/tracking/base.py\u001b[0m in \u001b[0;36m_method_wrapper\u001b[0;34m(self, *args, **kwargs)\u001b[0m\n\u001b[1;32m    627\u001b[0m     \u001b[0mself\u001b[0m\u001b[0;34m.\u001b[0m\u001b[0m_self_setattr_tracking\u001b[0m \u001b[0;34m=\u001b[0m \u001b[0;32mFalse\u001b[0m  \u001b[0;31m# pylint: disable=protected-access\u001b[0m\u001b[0;34m\u001b[0m\u001b[0;34m\u001b[0m\u001b[0m\n\u001b[1;32m    628\u001b[0m     \u001b[0;32mtry\u001b[0m\u001b[0;34m:\u001b[0m\u001b[0;34m\u001b[0m\u001b[0;34m\u001b[0m\u001b[0m\n\u001b[0;32m--> 629\u001b[0;31m       \u001b[0mresult\u001b[0m \u001b[0;34m=\u001b[0m \u001b[0mmethod\u001b[0m\u001b[0;34m(\u001b[0m\u001b[0mself\u001b[0m\u001b[0;34m,\u001b[0m \u001b[0;34m*\u001b[0m\u001b[0margs\u001b[0m\u001b[0;34m,\u001b[0m \u001b[0;34m**\u001b[0m\u001b[0mkwargs\u001b[0m\u001b[0;34m)\u001b[0m\u001b[0;34m\u001b[0m\u001b[0;34m\u001b[0m\u001b[0m\n\u001b[0m\u001b[1;32m    630\u001b[0m     \u001b[0;32mfinally\u001b[0m\u001b[0;34m:\u001b[0m\u001b[0;34m\u001b[0m\u001b[0;34m\u001b[0m\u001b[0m\n\u001b[1;32m    631\u001b[0m       \u001b[0mself\u001b[0m\u001b[0;34m.\u001b[0m\u001b[0m_self_setattr_tracking\u001b[0m \u001b[0;34m=\u001b[0m \u001b[0mprevious_value\u001b[0m  \u001b[0;31m# pylint: disable=protected-access\u001b[0m\u001b[0;34m\u001b[0m\u001b[0;34m\u001b[0m\u001b[0m\n",
            "\u001b[0;32m/usr/local/lib/python3.7/dist-packages/keras/engine/functional.py\u001b[0m in \u001b[0;36m__init__\u001b[0;34m(self, inputs, outputs, name, trainable, **kwargs)\u001b[0m\n\u001b[1;32m    142\u001b[0m     \u001b[0;32mif\u001b[0m \u001b[0mtf\u001b[0m\u001b[0;34m.\u001b[0m\u001b[0mcompat\u001b[0m\u001b[0;34m.\u001b[0m\u001b[0mv1\u001b[0m\u001b[0;34m.\u001b[0m\u001b[0mexecuting_eagerly_outside_functions\u001b[0m\u001b[0;34m(\u001b[0m\u001b[0;34m)\u001b[0m\u001b[0;34m:\u001b[0m\u001b[0;34m\u001b[0m\u001b[0;34m\u001b[0m\u001b[0m\n\u001b[1;32m    143\u001b[0m       if not all([functional_utils.is_input_keras_tensor(t)\n\u001b[0;32m--> 144\u001b[0;31m                   for t in tf.nest.flatten(inputs)]):\n\u001b[0m\u001b[1;32m    145\u001b[0m         \u001b[0minputs\u001b[0m\u001b[0;34m,\u001b[0m \u001b[0moutputs\u001b[0m \u001b[0;34m=\u001b[0m \u001b[0mfunctional_utils\u001b[0m\u001b[0;34m.\u001b[0m\u001b[0mclone_graph_nodes\u001b[0m\u001b[0;34m(\u001b[0m\u001b[0minputs\u001b[0m\u001b[0;34m,\u001b[0m \u001b[0moutputs\u001b[0m\u001b[0;34m)\u001b[0m\u001b[0;34m\u001b[0m\u001b[0;34m\u001b[0m\u001b[0m\n\u001b[1;32m    146\u001b[0m     \u001b[0mself\u001b[0m\u001b[0;34m.\u001b[0m\u001b[0m_init_graph_network\u001b[0m\u001b[0;34m(\u001b[0m\u001b[0minputs\u001b[0m\u001b[0;34m,\u001b[0m \u001b[0moutputs\u001b[0m\u001b[0;34m)\u001b[0m\u001b[0;34m\u001b[0m\u001b[0;34m\u001b[0m\u001b[0m\n",
            "\u001b[0;32m/usr/local/lib/python3.7/dist-packages/keras/engine/functional.py\u001b[0m in \u001b[0;36m<listcomp>\u001b[0;34m(.0)\u001b[0m\n\u001b[1;32m    142\u001b[0m     \u001b[0;32mif\u001b[0m \u001b[0mtf\u001b[0m\u001b[0;34m.\u001b[0m\u001b[0mcompat\u001b[0m\u001b[0;34m.\u001b[0m\u001b[0mv1\u001b[0m\u001b[0;34m.\u001b[0m\u001b[0mexecuting_eagerly_outside_functions\u001b[0m\u001b[0;34m(\u001b[0m\u001b[0;34m)\u001b[0m\u001b[0;34m:\u001b[0m\u001b[0;34m\u001b[0m\u001b[0;34m\u001b[0m\u001b[0m\n\u001b[1;32m    143\u001b[0m       if not all([functional_utils.is_input_keras_tensor(t)\n\u001b[0;32m--> 144\u001b[0;31m                   for t in tf.nest.flatten(inputs)]):\n\u001b[0m\u001b[1;32m    145\u001b[0m         \u001b[0minputs\u001b[0m\u001b[0;34m,\u001b[0m \u001b[0moutputs\u001b[0m \u001b[0;34m=\u001b[0m \u001b[0mfunctional_utils\u001b[0m\u001b[0;34m.\u001b[0m\u001b[0mclone_graph_nodes\u001b[0m\u001b[0;34m(\u001b[0m\u001b[0minputs\u001b[0m\u001b[0;34m,\u001b[0m \u001b[0moutputs\u001b[0m\u001b[0;34m)\u001b[0m\u001b[0;34m\u001b[0m\u001b[0;34m\u001b[0m\u001b[0m\n\u001b[1;32m    146\u001b[0m     \u001b[0mself\u001b[0m\u001b[0;34m.\u001b[0m\u001b[0m_init_graph_network\u001b[0m\u001b[0;34m(\u001b[0m\u001b[0minputs\u001b[0m\u001b[0;34m,\u001b[0m \u001b[0moutputs\u001b[0m\u001b[0;34m)\u001b[0m\u001b[0;34m\u001b[0m\u001b[0;34m\u001b[0m\u001b[0m\n",
            "\u001b[0;32m/usr/local/lib/python3.7/dist-packages/keras/engine/functional_utils.py\u001b[0m in \u001b[0;36mis_input_keras_tensor\u001b[0;34m(tensor)\u001b[0m\n\u001b[1;32m     45\u001b[0m   \"\"\"\n\u001b[1;32m     46\u001b[0m   \u001b[0;32mif\u001b[0m \u001b[0;32mnot\u001b[0m \u001b[0mnode_module\u001b[0m\u001b[0;34m.\u001b[0m\u001b[0mis_keras_tensor\u001b[0m\u001b[0;34m(\u001b[0m\u001b[0mtensor\u001b[0m\u001b[0;34m)\u001b[0m\u001b[0;34m:\u001b[0m\u001b[0;34m\u001b[0m\u001b[0;34m\u001b[0m\u001b[0m\n\u001b[0;32m---> 47\u001b[0;31m     \u001b[0;32mraise\u001b[0m \u001b[0mValueError\u001b[0m\u001b[0;34m(\u001b[0m\u001b[0m_KERAS_TENSOR_TYPE_CHECK_ERROR_MSG\u001b[0m\u001b[0;34m.\u001b[0m\u001b[0mformat\u001b[0m\u001b[0;34m(\u001b[0m\u001b[0mtensor\u001b[0m\u001b[0;34m)\u001b[0m\u001b[0;34m)\u001b[0m\u001b[0;34m\u001b[0m\u001b[0;34m\u001b[0m\u001b[0m\n\u001b[0m\u001b[1;32m     48\u001b[0m   \u001b[0;32mreturn\u001b[0m \u001b[0mtensor\u001b[0m\u001b[0;34m.\u001b[0m\u001b[0mnode\u001b[0m\u001b[0;34m.\u001b[0m\u001b[0mis_input\u001b[0m\u001b[0;34m\u001b[0m\u001b[0;34m\u001b[0m\u001b[0m\n\u001b[1;32m     49\u001b[0m \u001b[0;34m\u001b[0m\u001b[0m\n",
            "\u001b[0;31mValueError\u001b[0m: Found unexpected instance while processing input tensors for keras functional model. Expecting KerasTensor which is from tf.keras.Input() or output from keras layer call(). Got: 0"
          ]
        }
      ]
    },
    {
      "cell_type": "code",
      "source": [
        "display_activations(activations)"
      ],
      "metadata": {
        "id": "8DfC9gbx_SLn"
      },
      "execution_count": null,
      "outputs": []
    },
    {
      "cell_type": "markdown",
      "source": [
        "Transfer Learning - VGG16"
      ],
      "metadata": {
        "id": "OX_aN6uAI_MF"
      }
    },
    {
      "cell_type": "code",
      "source": [
        "# from keras import applications\n",
        "from tensorflow.keras import applications\n",
        "from skimage.transform import resize\n",
        "import cv2\n",
        "\n",
        "batch_size = 128\n",
        "num_classes = 10\n",
        "epochs = 50\n",
        "\n",
        "vgg_model = applications.vgg16.VGG16(weights='imagenet', include_top=False)\n",
        "vgg_model.summary()"
      ],
      "metadata": {
        "id": "BO8428JE_mi2",
        "colab": {
          "base_uri": "https://localhost:8080/"
        },
        "outputId": "21c88322-2bd8-42a0-fd51-a08da55e6776"
      },
      "execution_count": 56,
      "outputs": [
        {
          "output_type": "stream",
          "name": "stdout",
          "text": [
            "Downloading data from https://storage.googleapis.com/tensorflow/keras-applications/vgg16/vgg16_weights_tf_dim_ordering_tf_kernels_notop.h5\n",
            "58892288/58889256 [==============================] - 1s 0us/step\n",
            "58900480/58889256 [==============================] - 2s 0us/step\n",
            "Model: \"vgg16\"\n",
            "_________________________________________________________________\n",
            " Layer (type)                Output Shape              Param #   \n",
            "=================================================================\n",
            " input_1 (InputLayer)        [(None, None, None, 3)]   0         \n",
            "                                                                 \n",
            " block1_conv1 (Conv2D)       (None, None, None, 64)    1792      \n",
            "                                                                 \n",
            " block1_conv2 (Conv2D)       (None, None, None, 64)    36928     \n",
            "                                                                 \n",
            " block1_pool (MaxPooling2D)  (None, None, None, 64)    0         \n",
            "                                                                 \n",
            " block2_conv1 (Conv2D)       (None, None, None, 128)   73856     \n",
            "                                                                 \n",
            " block2_conv2 (Conv2D)       (None, None, None, 128)   147584    \n",
            "                                                                 \n",
            " block2_pool (MaxPooling2D)  (None, None, None, 128)   0         \n",
            "                                                                 \n",
            " block3_conv1 (Conv2D)       (None, None, None, 256)   295168    \n",
            "                                                                 \n",
            " block3_conv2 (Conv2D)       (None, None, None, 256)   590080    \n",
            "                                                                 \n",
            " block3_conv3 (Conv2D)       (None, None, None, 256)   590080    \n",
            "                                                                 \n",
            " block3_pool (MaxPooling2D)  (None, None, None, 256)   0         \n",
            "                                                                 \n",
            " block4_conv1 (Conv2D)       (None, None, None, 512)   1180160   \n",
            "                                                                 \n",
            " block4_conv2 (Conv2D)       (None, None, None, 512)   2359808   \n",
            "                                                                 \n",
            " block4_conv3 (Conv2D)       (None, None, None, 512)   2359808   \n",
            "                                                                 \n",
            " block4_pool (MaxPooling2D)  (None, None, None, 512)   0         \n",
            "                                                                 \n",
            " block5_conv1 (Conv2D)       (None, None, None, 512)   2359808   \n",
            "                                                                 \n",
            " block5_conv2 (Conv2D)       (None, None, None, 512)   2359808   \n",
            "                                                                 \n",
            " block5_conv3 (Conv2D)       (None, None, None, 512)   2359808   \n",
            "                                                                 \n",
            " block5_pool (MaxPooling2D)  (None, None, None, 512)   0         \n",
            "                                                                 \n",
            "=================================================================\n",
            "Total params: 14,714,688\n",
            "Trainable params: 14,714,688\n",
            "Non-trainable params: 0\n",
            "_________________________________________________________________\n"
          ]
        }
      ]
    },
    {
      "cell_type": "markdown",
      "source": [
        "X_Train"
      ],
      "metadata": {
        "id": "AlS-Bbb3JCYK"
      }
    },
    {
      "cell_type": "code",
      "source": [
        "# Resize the heighth and width to meet the minimum - X_train\n",
        "resized_train = np.empty((0,56,56))\n",
        "\n",
        "for line in X_train_cnn:\n",
        "    img = cv2.resize(line, None, fx=2, fy=2, interpolation = cv2.INTER_CUBIC)\n",
        "    resized_train = np.append(resized_train, [img], axis=0)\n",
        "    \n",
        "# Turn grayscale into RGB\n",
        "X_train_tl = np.stack((resized_train,)*3, -1)\n",
        "    \n",
        "bottleneck_features_train = vgg_model.predict(X_train_tl,verbose=1)"
      ],
      "metadata": {
        "id": "biQcM5g-_oZo",
        "colab": {
          "base_uri": "https://localhost:8080/"
        },
        "outputId": "488ede24-eeff-4dfd-fcf1-4d41b8b2bc4e"
      },
      "execution_count": 57,
      "outputs": [
        {
          "output_type": "stream",
          "name": "stdout",
          "text": [
            "657/657 [==============================] - 20s 29ms/step\n"
          ]
        }
      ]
    },
    {
      "cell_type": "markdown",
      "source": [
        "X_Test"
      ],
      "metadata": {
        "id": "KlVz9DK9JFdU"
      }
    },
    {
      "cell_type": "code",
      "source": [
        "# Resize the heighth and width to meet the minimum - X_test\n",
        "resized_test = np.empty((0,56,56))\n",
        "\n",
        "for line in X_test_cnn:\n",
        "    img = cv2.resize(line, None, fx=2, fy=2, interpolation = cv2.INTER_CUBIC)\n",
        "    resized_test = np.append(resized_test, [img], axis=0)\n",
        "    \n",
        "# Turn grayscale into RGB\n",
        "X_test_tl = np.stack((resized_test,)*3, -1)\n",
        "\n",
        "bottleneck_features_test = vgg_model.predict(X_test_tl,verbose=1)"
      ],
      "metadata": {
        "id": "uj089Uku_suY",
        "colab": {
          "base_uri": "https://localhost:8080/"
        },
        "outputId": "8458a778-87b2-4c8d-b927-c27e6183de70"
      },
      "execution_count": 58,
      "outputs": [
        {
          "output_type": "stream",
          "name": "stdout",
          "text": [
            "282/282 [==============================] - 10s 34ms/step\n"
          ]
        }
      ]
    },
    {
      "cell_type": "code",
      "source": [
        "clf_model = Sequential()\n",
        "clf_model.add(Flatten(input_shape=bottleneck_features_train.shape[1:]))\n",
        "clf_model.add(Dense(512, activation='relu'))\n",
        "clf_model.add(Dropout(0.5))\n",
        "clf_model.add(Dense(256, activation='relu'))\n",
        "clf_model.add(Dropout(0.5))\n",
        "clf_model.add(Dense(num_classes, activation='softmax'))"
      ],
      "metadata": {
        "id": "DMykwF2D_vjF"
      },
      "execution_count": 59,
      "outputs": []
    },
    {
      "cell_type": "code",
      "source": [
        "SVG(model_to_dot(clf_model, show_shapes=True, \n",
        "                 show_layer_names=True, rankdir='TB').create(prog='dot', format='svg'))"
      ],
      "metadata": {
        "id": "SHWQFS7M_xyJ",
        "colab": {
          "base_uri": "https://localhost:8080/",
          "height": 1000
        },
        "outputId": "fb84ddb6-8c81-42c4-a968-36e690c4e2fd"
      },
      "execution_count": 60,
      "outputs": [
        {
          "output_type": "execute_result",
          "data": {
            "text/plain": [
              "<IPython.core.display.SVG object>"
            ],
            "image/svg+xml": "<svg height=\"737pt\" viewBox=\"0.00 0.00 422.00 553.00\" width=\"563pt\" xmlns=\"http://www.w3.org/2000/svg\" xmlns:xlink=\"http://www.w3.org/1999/xlink\">\n<g class=\"graph\" id=\"graph0\" transform=\"scale(1.3333 1.3333) rotate(0) translate(4 549)\">\n<title>G</title>\n<polygon fill=\"#ffffff\" points=\"-4,4 -4,-549 418,-549 418,4 -4,4\" stroke=\"transparent\"/>\n<!-- 139714146565008 -->\n<g class=\"node\" id=\"node1\">\n<title>139714146565008</title>\n<polygon fill=\"none\" points=\"0,-498.5 0,-544.5 414,-544.5 414,-498.5 0,-498.5\" stroke=\"#000000\"/>\n<text fill=\"#000000\" font-family=\"Times,serif\" font-size=\"14.00\" text-anchor=\"middle\" x=\"52\" y=\"-529.3\">flatten_1_input</text>\n<polyline fill=\"none\" points=\"0,-521.5 104,-521.5 \" stroke=\"#000000\"/>\n<text fill=\"#000000\" font-family=\"Times,serif\" font-size=\"14.00\" text-anchor=\"middle\" x=\"52\" y=\"-506.3\">InputLayer</text>\n<polyline fill=\"none\" points=\"104,-498.5 104,-544.5 \" stroke=\"#000000\"/>\n<text fill=\"#000000\" font-family=\"Times,serif\" font-size=\"14.00\" text-anchor=\"middle\" x=\"133\" y=\"-529.3\">input:</text>\n<polyline fill=\"none\" points=\"104,-521.5 162,-521.5 \" stroke=\"#000000\"/>\n<text fill=\"#000000\" font-family=\"Times,serif\" font-size=\"14.00\" text-anchor=\"middle\" x=\"133\" y=\"-506.3\">output:</text>\n<polyline fill=\"none\" points=\"162,-498.5 162,-544.5 \" stroke=\"#000000\"/>\n<text fill=\"#000000\" font-family=\"Times,serif\" font-size=\"14.00\" text-anchor=\"middle\" x=\"225\" y=\"-517.8\">[(None, 1, 1, 512)]</text>\n<polyline fill=\"none\" points=\"288,-498.5 288,-544.5 \" stroke=\"#000000\"/>\n<text fill=\"#000000\" font-family=\"Times,serif\" font-size=\"14.00\" text-anchor=\"middle\" x=\"351\" y=\"-517.8\">[(None, 1, 1, 512)]</text>\n</g>\n<!-- 139714146565264 -->\n<g class=\"node\" id=\"node2\">\n<title>139714146565264</title>\n<polygon fill=\"none\" points=\"42.5,-415.5 42.5,-461.5 371.5,-461.5 371.5,-415.5 42.5,-415.5\" stroke=\"#000000\"/>\n<text fill=\"#000000\" font-family=\"Times,serif\" font-size=\"14.00\" text-anchor=\"middle\" x=\"76\" y=\"-446.3\">flatten_1</text>\n<polyline fill=\"none\" points=\"42.5,-438.5 109.5,-438.5 \" stroke=\"#000000\"/>\n<text fill=\"#000000\" font-family=\"Times,serif\" font-size=\"14.00\" text-anchor=\"middle\" x=\"76\" y=\"-423.3\">Flatten</text>\n<polyline fill=\"none\" points=\"109.5,-415.5 109.5,-461.5 \" stroke=\"#000000\"/>\n<text fill=\"#000000\" font-family=\"Times,serif\" font-size=\"14.00\" text-anchor=\"middle\" x=\"138.5\" y=\"-446.3\">input:</text>\n<polyline fill=\"none\" points=\"109.5,-438.5 167.5,-438.5 \" stroke=\"#000000\"/>\n<text fill=\"#000000\" font-family=\"Times,serif\" font-size=\"14.00\" text-anchor=\"middle\" x=\"138.5\" y=\"-423.3\">output:</text>\n<polyline fill=\"none\" points=\"167.5,-415.5 167.5,-461.5 \" stroke=\"#000000\"/>\n<text fill=\"#000000\" font-family=\"Times,serif\" font-size=\"14.00\" text-anchor=\"middle\" x=\"226\" y=\"-434.8\">(None, 1, 1, 512)</text>\n<polyline fill=\"none\" points=\"284.5,-415.5 284.5,-461.5 \" stroke=\"#000000\"/>\n<text fill=\"#000000\" font-family=\"Times,serif\" font-size=\"14.00\" text-anchor=\"middle\" x=\"328\" y=\"-434.8\">(None, 512)</text>\n</g>\n<!-- 139714146565008&#45;&gt;139714146565264 -->\n<g class=\"edge\" id=\"edge1\">\n<title>139714146565008-&gt;139714146565264</title>\n<path d=\"M207,-498.3799C207,-490.1745 207,-480.7679 207,-471.8786\" fill=\"none\" stroke=\"#000000\"/>\n<polygon fill=\"#000000\" points=\"210.5001,-471.784 207,-461.784 203.5001,-471.784 210.5001,-471.784\" stroke=\"#000000\"/>\n</g>\n<!-- 139714146563024 -->\n<g class=\"node\" id=\"node3\">\n<title>139714146563024</title>\n<polygon fill=\"none\" points=\"59,-332.5 59,-378.5 355,-378.5 355,-332.5 59,-332.5\" stroke=\"#000000\"/>\n<text fill=\"#000000\" font-family=\"Times,serif\" font-size=\"14.00\" text-anchor=\"middle\" x=\"91\" y=\"-363.3\">dense_2</text>\n<polyline fill=\"none\" points=\"59,-355.5 123,-355.5 \" stroke=\"#000000\"/>\n<text fill=\"#000000\" font-family=\"Times,serif\" font-size=\"14.00\" text-anchor=\"middle\" x=\"91\" y=\"-340.3\">Dense</text>\n<polyline fill=\"none\" points=\"123,-332.5 123,-378.5 \" stroke=\"#000000\"/>\n<text fill=\"#000000\" font-family=\"Times,serif\" font-size=\"14.00\" text-anchor=\"middle\" x=\"152\" y=\"-363.3\">input:</text>\n<polyline fill=\"none\" points=\"123,-355.5 181,-355.5 \" stroke=\"#000000\"/>\n<text fill=\"#000000\" font-family=\"Times,serif\" font-size=\"14.00\" text-anchor=\"middle\" x=\"152\" y=\"-340.3\">output:</text>\n<polyline fill=\"none\" points=\"181,-332.5 181,-378.5 \" stroke=\"#000000\"/>\n<text fill=\"#000000\" font-family=\"Times,serif\" font-size=\"14.00\" text-anchor=\"middle\" x=\"224.5\" y=\"-351.8\">(None, 512)</text>\n<polyline fill=\"none\" points=\"268,-332.5 268,-378.5 \" stroke=\"#000000\"/>\n<text fill=\"#000000\" font-family=\"Times,serif\" font-size=\"14.00\" text-anchor=\"middle\" x=\"311.5\" y=\"-351.8\">(None, 512)</text>\n</g>\n<!-- 139714146565264&#45;&gt;139714146563024 -->\n<g class=\"edge\" id=\"edge2\">\n<title>139714146565264-&gt;139714146563024</title>\n<path d=\"M207,-415.3799C207,-407.1745 207,-397.7679 207,-388.8786\" fill=\"none\" stroke=\"#000000\"/>\n<polygon fill=\"#000000\" points=\"210.5001,-388.784 207,-378.784 203.5001,-388.784 210.5001,-388.784\" stroke=\"#000000\"/>\n</g>\n<!-- 139714146447312 -->\n<g class=\"node\" id=\"node4\">\n<title>139714146447312</title>\n<polygon fill=\"none\" points=\"52.5,-249.5 52.5,-295.5 361.5,-295.5 361.5,-249.5 52.5,-249.5\" stroke=\"#000000\"/>\n<text fill=\"#000000\" font-family=\"Times,serif\" font-size=\"14.00\" text-anchor=\"middle\" x=\"91\" y=\"-280.3\">dropout_2</text>\n<polyline fill=\"none\" points=\"52.5,-272.5 129.5,-272.5 \" stroke=\"#000000\"/>\n<text fill=\"#000000\" font-family=\"Times,serif\" font-size=\"14.00\" text-anchor=\"middle\" x=\"91\" y=\"-257.3\">Dropout</text>\n<polyline fill=\"none\" points=\"129.5,-249.5 129.5,-295.5 \" stroke=\"#000000\"/>\n<text fill=\"#000000\" font-family=\"Times,serif\" font-size=\"14.00\" text-anchor=\"middle\" x=\"158.5\" y=\"-280.3\">input:</text>\n<polyline fill=\"none\" points=\"129.5,-272.5 187.5,-272.5 \" stroke=\"#000000\"/>\n<text fill=\"#000000\" font-family=\"Times,serif\" font-size=\"14.00\" text-anchor=\"middle\" x=\"158.5\" y=\"-257.3\">output:</text>\n<polyline fill=\"none\" points=\"187.5,-249.5 187.5,-295.5 \" stroke=\"#000000\"/>\n<text fill=\"#000000\" font-family=\"Times,serif\" font-size=\"14.00\" text-anchor=\"middle\" x=\"231\" y=\"-268.8\">(None, 512)</text>\n<polyline fill=\"none\" points=\"274.5,-249.5 274.5,-295.5 \" stroke=\"#000000\"/>\n<text fill=\"#000000\" font-family=\"Times,serif\" font-size=\"14.00\" text-anchor=\"middle\" x=\"318\" y=\"-268.8\">(None, 512)</text>\n</g>\n<!-- 139714146563024&#45;&gt;139714146447312 -->\n<g class=\"edge\" id=\"edge3\">\n<title>139714146563024-&gt;139714146447312</title>\n<path d=\"M207,-332.3799C207,-324.1745 207,-314.7679 207,-305.8786\" fill=\"none\" stroke=\"#000000\"/>\n<polygon fill=\"#000000\" points=\"210.5001,-305.784 207,-295.784 203.5001,-305.784 210.5001,-305.784\" stroke=\"#000000\"/>\n</g>\n<!-- 139714146087056 -->\n<g class=\"node\" id=\"node5\">\n<title>139714146087056</title>\n<polygon fill=\"none\" points=\"59,-166.5 59,-212.5 355,-212.5 355,-166.5 59,-166.5\" stroke=\"#000000\"/>\n<text fill=\"#000000\" font-family=\"Times,serif\" font-size=\"14.00\" text-anchor=\"middle\" x=\"91\" y=\"-197.3\">dense_3</text>\n<polyline fill=\"none\" points=\"59,-189.5 123,-189.5 \" stroke=\"#000000\"/>\n<text fill=\"#000000\" font-family=\"Times,serif\" font-size=\"14.00\" text-anchor=\"middle\" x=\"91\" y=\"-174.3\">Dense</text>\n<polyline fill=\"none\" points=\"123,-166.5 123,-212.5 \" stroke=\"#000000\"/>\n<text fill=\"#000000\" font-family=\"Times,serif\" font-size=\"14.00\" text-anchor=\"middle\" x=\"152\" y=\"-197.3\">input:</text>\n<polyline fill=\"none\" points=\"123,-189.5 181,-189.5 \" stroke=\"#000000\"/>\n<text fill=\"#000000\" font-family=\"Times,serif\" font-size=\"14.00\" text-anchor=\"middle\" x=\"152\" y=\"-174.3\">output:</text>\n<polyline fill=\"none\" points=\"181,-166.5 181,-212.5 \" stroke=\"#000000\"/>\n<text fill=\"#000000\" font-family=\"Times,serif\" font-size=\"14.00\" text-anchor=\"middle\" x=\"224.5\" y=\"-185.8\">(None, 512)</text>\n<polyline fill=\"none\" points=\"268,-166.5 268,-212.5 \" stroke=\"#000000\"/>\n<text fill=\"#000000\" font-family=\"Times,serif\" font-size=\"14.00\" text-anchor=\"middle\" x=\"311.5\" y=\"-185.8\">(None, 256)</text>\n</g>\n<!-- 139714146447312&#45;&gt;139714146087056 -->\n<g class=\"edge\" id=\"edge4\">\n<title>139714146447312-&gt;139714146087056</title>\n<path d=\"M207,-249.3799C207,-241.1745 207,-231.7679 207,-222.8786\" fill=\"none\" stroke=\"#000000\"/>\n<polygon fill=\"#000000\" points=\"210.5001,-222.784 207,-212.784 203.5001,-222.784 210.5001,-222.784\" stroke=\"#000000\"/>\n</g>\n<!-- 139714146090448 -->\n<g class=\"node\" id=\"node6\">\n<title>139714146090448</title>\n<polygon fill=\"none\" points=\"52.5,-83.5 52.5,-129.5 361.5,-129.5 361.5,-83.5 52.5,-83.5\" stroke=\"#000000\"/>\n<text fill=\"#000000\" font-family=\"Times,serif\" font-size=\"14.00\" text-anchor=\"middle\" x=\"91\" y=\"-114.3\">dropout_3</text>\n<polyline fill=\"none\" points=\"52.5,-106.5 129.5,-106.5 \" stroke=\"#000000\"/>\n<text fill=\"#000000\" font-family=\"Times,serif\" font-size=\"14.00\" text-anchor=\"middle\" x=\"91\" y=\"-91.3\">Dropout</text>\n<polyline fill=\"none\" points=\"129.5,-83.5 129.5,-129.5 \" stroke=\"#000000\"/>\n<text fill=\"#000000\" font-family=\"Times,serif\" font-size=\"14.00\" text-anchor=\"middle\" x=\"158.5\" y=\"-114.3\">input:</text>\n<polyline fill=\"none\" points=\"129.5,-106.5 187.5,-106.5 \" stroke=\"#000000\"/>\n<text fill=\"#000000\" font-family=\"Times,serif\" font-size=\"14.00\" text-anchor=\"middle\" x=\"158.5\" y=\"-91.3\">output:</text>\n<polyline fill=\"none\" points=\"187.5,-83.5 187.5,-129.5 \" stroke=\"#000000\"/>\n<text fill=\"#000000\" font-family=\"Times,serif\" font-size=\"14.00\" text-anchor=\"middle\" x=\"231\" y=\"-102.8\">(None, 256)</text>\n<polyline fill=\"none\" points=\"274.5,-83.5 274.5,-129.5 \" stroke=\"#000000\"/>\n<text fill=\"#000000\" font-family=\"Times,serif\" font-size=\"14.00\" text-anchor=\"middle\" x=\"318\" y=\"-102.8\">(None, 256)</text>\n</g>\n<!-- 139714146087056&#45;&gt;139714146090448 -->\n<g class=\"edge\" id=\"edge5\">\n<title>139714146087056-&gt;139714146090448</title>\n<path d=\"M207,-166.3799C207,-158.1745 207,-148.7679 207,-139.8786\" fill=\"none\" stroke=\"#000000\"/>\n<polygon fill=\"#000000\" points=\"210.5001,-139.784 207,-129.784 203.5001,-139.784 210.5001,-139.784\" stroke=\"#000000\"/>\n</g>\n<!-- 139714146410384 -->\n<g class=\"node\" id=\"node7\">\n<title>139714146410384</title>\n<polygon fill=\"none\" points=\"62.5,-.5 62.5,-46.5 351.5,-46.5 351.5,-.5 62.5,-.5\" stroke=\"#000000\"/>\n<text fill=\"#000000\" font-family=\"Times,serif\" font-size=\"14.00\" text-anchor=\"middle\" x=\"94.5\" y=\"-31.3\">dense_4</text>\n<polyline fill=\"none\" points=\"62.5,-23.5 126.5,-23.5 \" stroke=\"#000000\"/>\n<text fill=\"#000000\" font-family=\"Times,serif\" font-size=\"14.00\" text-anchor=\"middle\" x=\"94.5\" y=\"-8.3\">Dense</text>\n<polyline fill=\"none\" points=\"126.5,-.5 126.5,-46.5 \" stroke=\"#000000\"/>\n<text fill=\"#000000\" font-family=\"Times,serif\" font-size=\"14.00\" text-anchor=\"middle\" x=\"155.5\" y=\"-31.3\">input:</text>\n<polyline fill=\"none\" points=\"126.5,-23.5 184.5,-23.5 \" stroke=\"#000000\"/>\n<text fill=\"#000000\" font-family=\"Times,serif\" font-size=\"14.00\" text-anchor=\"middle\" x=\"155.5\" y=\"-8.3\">output:</text>\n<polyline fill=\"none\" points=\"184.5,-.5 184.5,-46.5 \" stroke=\"#000000\"/>\n<text fill=\"#000000\" font-family=\"Times,serif\" font-size=\"14.00\" text-anchor=\"middle\" x=\"228\" y=\"-19.8\">(None, 256)</text>\n<polyline fill=\"none\" points=\"271.5,-.5 271.5,-46.5 \" stroke=\"#000000\"/>\n<text fill=\"#000000\" font-family=\"Times,serif\" font-size=\"14.00\" text-anchor=\"middle\" x=\"311.5\" y=\"-19.8\">(None, 10)</text>\n</g>\n<!-- 139714146090448&#45;&gt;139714146410384 -->\n<g class=\"edge\" id=\"edge6\">\n<title>139714146090448-&gt;139714146410384</title>\n<path d=\"M207,-83.3799C207,-75.1745 207,-65.7679 207,-56.8786\" fill=\"none\" stroke=\"#000000\"/>\n<polygon fill=\"#000000\" points=\"210.5001,-56.784 207,-46.784 203.5001,-56.784 210.5001,-56.784\" stroke=\"#000000\"/>\n</g>\n</g>\n</svg>"
          },
          "metadata": {},
          "execution_count": 60
        }
      ]
    },
    {
      "cell_type": "code",
      "source": [
        "import tensorflow as tf\n",
        "clf_model.compile(loss=keras.losses.categorical_crossentropy,\n",
        "              optimizer=tf.keras.optimizers.Adadelta(),\n",
        "              metrics=['accuracy'])"
      ],
      "metadata": {
        "id": "2TK-sOow_1rW"
      },
      "execution_count": 63,
      "outputs": []
    },
    {
      "cell_type": "code",
      "source": [
        "clf_model.fit(bottleneck_features_train, y_train_cnn,\n",
        "          batch_size=batch_size,\n",
        "          epochs=epochs,\n",
        "          verbose=1)"
      ],
      "metadata": {
        "id": "Fs6KueGr_2VQ",
        "colab": {
          "base_uri": "https://localhost:8080/"
        },
        "outputId": "495f9867-c280-49ea-be58-a82c582a0900"
      },
      "execution_count": 65,
      "outputs": [
        {
          "output_type": "stream",
          "name": "stdout",
          "text": [
            "Epoch 1/50\n",
            "165/165 [==============================] - 2s 13ms/step - loss: 2.4837 - accuracy: 0.1064\n",
            "Epoch 2/50\n",
            "165/165 [==============================] - 1s 3ms/step - loss: 2.4834 - accuracy: 0.1043\n",
            "Epoch 3/50\n",
            "165/165 [==============================] - 1s 8ms/step - loss: 2.4645 - accuracy: 0.1097\n",
            "Epoch 4/50\n",
            "165/165 [==============================] - 1s 3ms/step - loss: 2.4569 - accuracy: 0.1071\n",
            "Epoch 5/50\n",
            "165/165 [==============================] - 3s 16ms/step - loss: 2.4393 - accuracy: 0.1147\n",
            "Epoch 6/50\n",
            "165/165 [==============================] - 1s 3ms/step - loss: 2.4324 - accuracy: 0.1148\n",
            "Epoch 7/50\n",
            "165/165 [==============================] - 1s 4ms/step - loss: 2.4222 - accuracy: 0.1158\n",
            "Epoch 8/50\n",
            "165/165 [==============================] - 1s 7ms/step - loss: 2.4216 - accuracy: 0.1121\n",
            "Epoch 9/50\n",
            "165/165 [==============================] - 1s 3ms/step - loss: 2.4100 - accuracy: 0.1143\n",
            "Epoch 10/50\n",
            "165/165 [==============================] - 1s 8ms/step - loss: 2.4056 - accuracy: 0.1130\n",
            "Epoch 11/50\n",
            "165/165 [==============================] - 1s 3ms/step - loss: 2.4066 - accuracy: 0.1144\n",
            "Epoch 12/50\n",
            "165/165 [==============================] - 1s 8ms/step - loss: 2.3910 - accuracy: 0.1176\n",
            "Epoch 13/50\n",
            "165/165 [==============================] - 1s 7ms/step - loss: 2.3860 - accuracy: 0.1227\n",
            "Epoch 14/50\n",
            "165/165 [==============================] - 1s 7ms/step - loss: 2.3761 - accuracy: 0.1251\n",
            "Epoch 15/50\n",
            "165/165 [==============================] - 0s 3ms/step - loss: 2.3756 - accuracy: 0.1200\n",
            "Epoch 16/50\n",
            "165/165 [==============================] - 1s 5ms/step - loss: 2.3684 - accuracy: 0.1253\n",
            "Epoch 17/50\n",
            "165/165 [==============================] - 1s 9ms/step - loss: 2.3654 - accuracy: 0.1238\n",
            "Epoch 18/50\n",
            "165/165 [==============================] - 1s 7ms/step - loss: 2.3630 - accuracy: 0.1258\n",
            "Epoch 19/50\n",
            "165/165 [==============================] - 1s 3ms/step - loss: 2.3576 - accuracy: 0.1241\n",
            "Epoch 20/50\n",
            "165/165 [==============================] - 1s 8ms/step - loss: 2.3447 - accuracy: 0.1327\n",
            "Epoch 21/50\n",
            "165/165 [==============================] - 1s 7ms/step - loss: 2.3454 - accuracy: 0.1317\n",
            "Epoch 22/50\n",
            "165/165 [==============================] - 1s 3ms/step - loss: 2.3389 - accuracy: 0.1338\n",
            "Epoch 23/50\n",
            "165/165 [==============================] - 1s 8ms/step - loss: 2.3343 - accuracy: 0.1350\n",
            "Epoch 24/50\n",
            "165/165 [==============================] - 1s 3ms/step - loss: 2.3325 - accuracy: 0.1369\n",
            "Epoch 25/50\n",
            "165/165 [==============================] - 1s 4ms/step - loss: 2.3188 - accuracy: 0.1393\n",
            "Epoch 26/50\n",
            "165/165 [==============================] - 1s 3ms/step - loss: 2.3169 - accuracy: 0.1392\n",
            "Epoch 27/50\n",
            "165/165 [==============================] - 1s 8ms/step - loss: 2.3134 - accuracy: 0.1403\n",
            "Epoch 28/50\n",
            "165/165 [==============================] - 2s 11ms/step - loss: 2.3079 - accuracy: 0.1421\n",
            "Epoch 29/50\n",
            "165/165 [==============================] - 1s 3ms/step - loss: 2.3074 - accuracy: 0.1393\n",
            "Epoch 30/50\n",
            "165/165 [==============================] - 1s 4ms/step - loss: 2.3005 - accuracy: 0.1463\n",
            "Epoch 31/50\n",
            "165/165 [==============================] - 1s 7ms/step - loss: 2.2973 - accuracy: 0.1486\n",
            "Epoch 32/50\n",
            "165/165 [==============================] - 1s 3ms/step - loss: 2.2931 - accuracy: 0.1522\n",
            "Epoch 33/50\n",
            "165/165 [==============================] - 1s 8ms/step - loss: 2.2841 - accuracy: 0.1544\n",
            "Epoch 34/50\n",
            "165/165 [==============================] - 1s 3ms/step - loss: 2.2828 - accuracy: 0.1535\n",
            "Epoch 35/50\n",
            "165/165 [==============================] - 1s 5ms/step - loss: 2.2849 - accuracy: 0.1505\n",
            "Epoch 36/50\n",
            "165/165 [==============================] - 1s 4ms/step - loss: 2.2797 - accuracy: 0.1548\n",
            "Epoch 37/50\n",
            "165/165 [==============================] - 2s 10ms/step - loss: 2.2759 - accuracy: 0.1592\n",
            "Epoch 38/50\n",
            "165/165 [==============================] - 1s 3ms/step - loss: 2.2750 - accuracy: 0.1581\n",
            "Epoch 39/50\n",
            "165/165 [==============================] - 1s 4ms/step - loss: 2.2632 - accuracy: 0.1599\n",
            "Epoch 40/50\n",
            "165/165 [==============================] - 1s 7ms/step - loss: 2.2639 - accuracy: 0.1610\n",
            "Epoch 41/50\n",
            "165/165 [==============================] - 1s 3ms/step - loss: 2.2572 - accuracy: 0.1659\n",
            "Epoch 42/50\n",
            "165/165 [==============================] - 1s 4ms/step - loss: 2.2587 - accuracy: 0.1646\n",
            "Epoch 43/50\n",
            "165/165 [==============================] - 1s 8ms/step - loss: 2.2499 - accuracy: 0.1705\n",
            "Epoch 44/50\n",
            "165/165 [==============================] - 1s 3ms/step - loss: 2.2419 - accuracy: 0.1759\n",
            "Epoch 45/50\n",
            "165/165 [==============================] - 1s 8ms/step - loss: 2.2409 - accuracy: 0.1709\n",
            "Epoch 46/50\n",
            "165/165 [==============================] - 1s 3ms/step - loss: 2.2427 - accuracy: 0.1748\n",
            "Epoch 47/50\n",
            "165/165 [==============================] - 1s 5ms/step - loss: 2.2374 - accuracy: 0.1764\n",
            "Epoch 48/50\n",
            "165/165 [==============================] - 1s 7ms/step - loss: 2.2348 - accuracy: 0.1764\n",
            "Epoch 49/50\n",
            "165/165 [==============================] - 1s 3ms/step - loss: 2.2291 - accuracy: 0.1767\n",
            "Epoch 50/50\n",
            "165/165 [==============================] - 2s 13ms/step - loss: 2.2265 - accuracy: 0.1787\n"
          ]
        },
        {
          "output_type": "execute_result",
          "data": {
            "text/plain": [
              "<keras.callbacks.History at 0x7f11ba01fc90>"
            ]
          },
          "metadata": {},
          "execution_count": 65
        }
      ]
    },
    {
      "cell_type": "markdown",
      "source": [
        "Predict and Test Model Performance"
      ],
      "metadata": {
        "id": "K-erByAKJLTA"
      }
    },
    {
      "cell_type": "code",
      "source": [
        "vgg16_score = clf_model.evaluate(bottleneck_features_test, y_test_cnn, verbose=1)"
      ],
      "metadata": {
        "id": "QpLQqLAQ_5_Z",
        "colab": {
          "base_uri": "https://localhost:8080/"
        },
        "outputId": "5a7fead7-a489-44eb-9773-de31aa33b431"
      },
      "execution_count": 66,
      "outputs": [
        {
          "output_type": "stream",
          "name": "stdout",
          "text": [
            "282/282 [==============================] - 1s 3ms/step - loss: 2.1292 - accuracy: 0.3854\n"
          ]
        }
      ]
    },
    {
      "cell_type": "code",
      "source": [
        "print('Test loss:', vgg16_score[0])\n",
        "print('Test accuracy:', vgg16_score[1])"
      ],
      "metadata": {
        "id": "tzes5S1O_9nu",
        "colab": {
          "base_uri": "https://localhost:8080/"
        },
        "outputId": "30be97ff-6ccd-47c6-b9f5-462ee7a36a57"
      },
      "execution_count": 67,
      "outputs": [
        {
          "output_type": "stream",
          "name": "stdout",
          "text": [
            "Test loss: 2.1292178630828857\n",
            "Test accuracy: 0.38544443249702454\n"
          ]
        }
      ]
    },
    {
      "cell_type": "markdown",
      "source": [
        "Results"
      ],
      "metadata": {
        "id": "6UyGOM-rJOM9"
      }
    },
    {
      "cell_type": "code",
      "source": [
        "print('KNN accuracy: ',acc_knn,\n",
        "      '\\n',\n",
        "      'Random forest accuracy: ',acc_rfc,\n",
        "      '\\n',\n",
        "      'Linear SVC accuracy: ',acc_lsvc,\n",
        "      '\\n',\n",
        "      'Gaussian Radial Basis Function SVC Accuracy: ',acc_svc,\n",
        "      '\\n',\n",
        "      'Multi-Layer Perceptron accuracy: ',acc_mlp,\n",
        "      '\\n',\n",
        "      'Convolutional Neural Network Score:',cnn_score[1],\n",
        "      '\\n', \n",
        "      'Transfer Learning Score (VGG16)', vgg16_score[1]\n",
        "     )"
      ],
      "metadata": {
        "id": "vmwmhVzT_-Tu",
        "colab": {
          "base_uri": "https://localhost:8080/",
          "height": 249
        },
        "outputId": "56a8cc81-04d8-492c-caec-991168853665"
      },
      "execution_count": 68,
      "outputs": [
        {
          "output_type": "error",
          "ename": "NameError",
          "evalue": "ignored",
          "traceback": [
            "\u001b[0;31m---------------------------------------------------------------------------\u001b[0m",
            "\u001b[0;31mNameError\u001b[0m                                 Traceback (most recent call last)",
            "\u001b[0;32m<ipython-input-68-cd5c332522d7>\u001b[0m in \u001b[0;36m<module>\u001b[0;34m()\u001b[0m\n\u001b[0;32m----> 1\u001b[0;31m print('KNN accuracy: ',acc_knn,\n\u001b[0m\u001b[1;32m      2\u001b[0m       \u001b[0;34m'\\n'\u001b[0m\u001b[0;34m,\u001b[0m\u001b[0;34m\u001b[0m\u001b[0;34m\u001b[0m\u001b[0m\n\u001b[1;32m      3\u001b[0m       \u001b[0;34m'Random forest accuracy: '\u001b[0m\u001b[0;34m,\u001b[0m\u001b[0macc_rfc\u001b[0m\u001b[0;34m,\u001b[0m\u001b[0;34m\u001b[0m\u001b[0;34m\u001b[0m\u001b[0m\n\u001b[1;32m      4\u001b[0m       \u001b[0;34m'\\n'\u001b[0m\u001b[0;34m,\u001b[0m\u001b[0;34m\u001b[0m\u001b[0;34m\u001b[0m\u001b[0m\n\u001b[1;32m      5\u001b[0m       \u001b[0;34m'Linear SVC accuracy: '\u001b[0m\u001b[0;34m,\u001b[0m\u001b[0macc_lsvc\u001b[0m\u001b[0;34m,\u001b[0m\u001b[0;34m\u001b[0m\u001b[0;34m\u001b[0m\u001b[0m\n",
            "\u001b[0;31mNameError\u001b[0m: name 'acc_knn' is not defined"
          ]
        }
      ]
    }
  ]
}
